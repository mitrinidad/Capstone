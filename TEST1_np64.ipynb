{
 "cells": [
  {
   "cell_type": "code",
   "execution_count": 65,
   "metadata": {
    "collapsed": true
   },
   "outputs": [],
   "source": [
    "import pandas as pd\n",
    "import numpy as np\n",
    "import pickle\n",
    "import xgboost as xg"
   ]
  },
  {
   "cell_type": "code",
   "execution_count": 66,
   "metadata": {
    "collapsed": true
   },
   "outputs": [],
   "source": [
    "# DE-SERIALIZE PICKLED NATURAL PRODUCT FINGERPRINTS\n",
    "with open('/Users/marenaisabelle/CODE/GADSI/Capstone/np_prints') as fnpps:\n",
    "    npps = pickle.load(fnpps)"
   ]
  },
  {
   "cell_type": "code",
   "execution_count": 67,
   "metadata": {
    "collapsed": true
   },
   "outputs": [],
   "source": [
    "# DE-SERIALIZE PICKLED XGB LOGISTIC CLASSIFIER\n",
    "with open('/Users/marenaisabelle/CODE/GADSI/Capstone/OptimalXGB') as fmod:\n",
    "    xgb_opt = pickle.load(fmod)"
   ]
  },
  {
   "cell_type": "code",
   "execution_count": 113,
   "metadata": {
    "collapsed": false
   },
   "outputs": [
    {
     "name": "stdout",
     "output_type": "stream",
     "text": [
      "<class 'pandas.core.frame.DataFrame'>\n",
      "RangeIndex: 64576 entries, 0 to 64575\n",
      "Data columns (total 2 columns):\n",
      "stock_num    64576 non-null object\n",
      "Smiles       64576 non-null object\n",
      "dtypes: object(2)\n",
      "memory usage: 1009.1+ KB\n",
      "None\n"
     ]
    },
    {
     "data": {
      "text/html": [
       "<div>\n",
       "<table border=\"1\" class=\"dataframe\">\n",
       "  <thead>\n",
       "    <tr style=\"text-align: right;\">\n",
       "      <th></th>\n",
       "      <th>stock_num</th>\n",
       "      <th>Smiles</th>\n",
       "    </tr>\n",
       "  </thead>\n",
       "  <tbody>\n",
       "    <tr>\n",
       "      <th>0</th>\n",
       "      <td>STOCK1N-00001</td>\n",
       "      <td>O[C@H]1C=C2CC[N+]3([C@H]2[C@@H]([C@@H]1O)c1cc2...</td>\n",
       "    </tr>\n",
       "    <tr>\n",
       "      <th>1</th>\n",
       "      <td>STOCK1N-00002</td>\n",
       "      <td>COc1c2c(CC[C@@H](c3c2ccc(c(=O)c3)NCc2ccc(cc2)F...</td>\n",
       "    </tr>\n",
       "    <tr>\n",
       "      <th>2</th>\n",
       "      <td>STOCK1N-00004</td>\n",
       "      <td>COc1cc2CC3(CCCCC3)N=Cc2cc1OC.Cl</td>\n",
       "    </tr>\n",
       "    <tr>\n",
       "      <th>3</th>\n",
       "      <td>STOCK1N-00006</td>\n",
       "      <td>C=CCOc1ccc(cc1)C(=O)NC(C1COc2c(O1)cccc2)C</td>\n",
       "    </tr>\n",
       "    <tr>\n",
       "      <th>4</th>\n",
       "      <td>STOCK1N-00007</td>\n",
       "      <td>COc1cc2CN(C/C=C/c3ccccc3)CC3(c2cc1OC)CCOCC3.Cl</td>\n",
       "    </tr>\n",
       "  </tbody>\n",
       "</table>\n",
       "</div>"
      ],
      "text/plain": [
       "       stock_num                                             Smiles\n",
       "0  STOCK1N-00001  O[C@H]1C=C2CC[N+]3([C@H]2[C@@H]([C@@H]1O)c1cc2...\n",
       "1  STOCK1N-00002  COc1c2c(CC[C@@H](c3c2ccc(c(=O)c3)NCc2ccc(cc2)F...\n",
       "2  STOCK1N-00004                    COc1cc2CC3(CCCCC3)N=Cc2cc1OC.Cl\n",
       "3  STOCK1N-00006          C=CCOc1ccc(cc1)C(=O)NC(C1COc2c(O1)cccc2)C\n",
       "4  STOCK1N-00007     COc1cc2CN(C/C=C/c3ccccc3)CC3(c2cc1OC)CCOCC3.Cl"
      ]
     },
     "execution_count": 113,
     "metadata": {},
     "output_type": "execute_result"
    }
   ],
   "source": [
    "# LOAD NATURAL PRODUCT DF\n",
    "np_df = pd.read_csv('/Users/marenaisabelle/Downloads/ibs2016oct_nc.smi', header = None)\n",
    "np_df['stock_num'] = [x.split('\\t')[1] for x in np_df[0]]\n",
    "np_df['Smiles'] = [x.split('\\t')[0] for x in np_df[0]]\n",
    "np_df = np_df.drop(0, axis = 1)\n",
    "print np_df.info()\n",
    "np_df.head()"
   ]
  },
  {
   "cell_type": "code",
   "execution_count": 114,
   "metadata": {
    "collapsed": false
   },
   "outputs": [],
   "source": [
    "# PREDICT TEST COMPOUND ACTIVITIES\n",
    "nppred = xgb_opt.predict(npps).tolist()\n",
    "np_df['Pred_Activity'] = [x for x in nppred] # Append predicted activities to test df"
   ]
  },
  {
   "cell_type": "code",
   "execution_count": 115,
   "metadata": {
    "collapsed": false
   },
   "outputs": [],
   "source": [
    "# EVALUATE HIT CONFIDENCE/PROBABILITY\n",
    "pred_proba = xgb_opt.predict_proba(npps)\n",
    "np_df['Pred_Prob_Neg'] = [x[0] for x in pred_proba] # Append predicted probs to test df\n",
    "np_df['Pred_Prob_Pos'] = [x[1] for x in pred_proba] # Append predicted probs to test df"
   ]
  },
  {
   "cell_type": "code",
   "execution_count": 117,
   "metadata": {
    "collapsed": false
   },
   "outputs": [
    {
     "name": "stdout",
     "output_type": "stream",
     "text": [
      "       Pred_Activity  Pred_Prob_Neg  Pred_Prob_Pos\n",
      "count   64576.000000   64576.000000   64576.000000\n",
      "mean        0.000449       0.979646       0.020354\n",
      "std         0.021187       0.028801       0.028801\n",
      "min         0.000000       0.109873       0.004436\n",
      "25%         0.000000       0.978728       0.009788\n",
      "50%         0.000000       0.986829       0.013171\n",
      "75%         0.000000       0.990212       0.021272\n",
      "max         1.000000       0.995564       0.890127\n"
     ]
    },
    {
     "data": {
      "text/html": [
       "<div>\n",
       "<table border=\"1\" class=\"dataframe\">\n",
       "  <thead>\n",
       "    <tr style=\"text-align: right;\">\n",
       "      <th></th>\n",
       "      <th>stock_num</th>\n",
       "      <th>Smiles</th>\n",
       "      <th>Pred_Activity</th>\n",
       "      <th>Pred_Prob_Neg</th>\n",
       "      <th>Pred_Prob_Pos</th>\n",
       "    </tr>\n",
       "  </thead>\n",
       "  <tbody>\n",
       "    <tr>\n",
       "      <th>0</th>\n",
       "      <td>STOCK1N-00001</td>\n",
       "      <td>O[C@H]1C=C2CC[N+]3([C@H]2[C@@H]([C@@H]1O)c1cc2...</td>\n",
       "      <td>0.0</td>\n",
       "      <td>0.975480</td>\n",
       "      <td>0.024520</td>\n",
       "    </tr>\n",
       "    <tr>\n",
       "      <th>1</th>\n",
       "      <td>STOCK1N-00002</td>\n",
       "      <td>COc1c2c(CC[C@@H](c3c2ccc(c(=O)c3)NCc2ccc(cc2)F...</td>\n",
       "      <td>0.0</td>\n",
       "      <td>0.990995</td>\n",
       "      <td>0.009005</td>\n",
       "    </tr>\n",
       "    <tr>\n",
       "      <th>2</th>\n",
       "      <td>STOCK1N-00004</td>\n",
       "      <td>COc1cc2CC3(CCCCC3)N=Cc2cc1OC.Cl</td>\n",
       "      <td>0.0</td>\n",
       "      <td>0.959863</td>\n",
       "      <td>0.040137</td>\n",
       "    </tr>\n",
       "    <tr>\n",
       "      <th>3</th>\n",
       "      <td>STOCK1N-00006</td>\n",
       "      <td>C=CCOc1ccc(cc1)C(=O)NC(C1COc2c(O1)cccc2)C</td>\n",
       "      <td>0.0</td>\n",
       "      <td>0.976744</td>\n",
       "      <td>0.023256</td>\n",
       "    </tr>\n",
       "    <tr>\n",
       "      <th>4</th>\n",
       "      <td>STOCK1N-00007</td>\n",
       "      <td>COc1cc2CN(C/C=C/c3ccccc3)CC3(c2cc1OC)CCOCC3.Cl</td>\n",
       "      <td>0.0</td>\n",
       "      <td>0.962025</td>\n",
       "      <td>0.037975</td>\n",
       "    </tr>\n",
       "  </tbody>\n",
       "</table>\n",
       "</div>"
      ],
      "text/plain": [
       "       stock_num                                             Smiles  \\\n",
       "0  STOCK1N-00001  O[C@H]1C=C2CC[N+]3([C@H]2[C@@H]([C@@H]1O)c1cc2...   \n",
       "1  STOCK1N-00002  COc1c2c(CC[C@@H](c3c2ccc(c(=O)c3)NCc2ccc(cc2)F...   \n",
       "2  STOCK1N-00004                    COc1cc2CC3(CCCCC3)N=Cc2cc1OC.Cl   \n",
       "3  STOCK1N-00006          C=CCOc1ccc(cc1)C(=O)NC(C1COc2c(O1)cccc2)C   \n",
       "4  STOCK1N-00007     COc1cc2CN(C/C=C/c3ccccc3)CC3(c2cc1OC)CCOCC3.Cl   \n",
       "\n",
       "   Pred_Activity  Pred_Prob_Neg  Pred_Prob_Pos  \n",
       "0            0.0       0.975480       0.024520  \n",
       "1            0.0       0.990995       0.009005  \n",
       "2            0.0       0.959863       0.040137  \n",
       "3            0.0       0.976744       0.023256  \n",
       "4            0.0       0.962025       0.037975  "
      ]
     },
     "execution_count": 117,
     "metadata": {},
     "output_type": "execute_result"
    }
   ],
   "source": [
    "# CLEAN AND VISUALIZE FINAL DATA FRAME\n",
    "print np_df.describe()\n",
    "np_df.head()"
   ]
  },
  {
   "cell_type": "code",
   "execution_count": 121,
   "metadata": {
    "collapsed": false
   },
   "outputs": [
    {
     "name": "stdout",
     "output_type": "stream",
     "text": [
      "[2795, 3444, 5162, 7455, 10818, 10852, 10853, 10917, 11062, 12072, 12719, 13098, 15061, 15067, 15116, 15575, 16985, 17173, 17691, 18628, 22632, 25783, 25858, 26002, 27003, 32920, 34022, 35603, 37303]\n"
     ]
    }
   ],
   "source": [
    "# RETURN INDICES OF ACTIVE COMPOUNDS\n",
    "act_hits = np_df[np_df['Pred_Activity'] == 1].index.tolist()\n",
    "print act_hits"
   ]
  },
  {
   "cell_type": "code",
   "execution_count": 126,
   "metadata": {
    "collapsed": false
   },
   "outputs": [
    {
     "name": "stdout",
     "output_type": "stream",
     "text": [
      "[0.59658271074295044, 0.52850592136383057, 0.57088911533355713, 0.68933278322219849, 0.53584879636764526, 0.54016953706741333, 0.62677860260009766, 0.56979376077651978, 0.63394749164581299, 0.59735476970672607, 0.56467336416244507, 0.50832110643386841, 0.64100879430770874, 0.71892303228378296, 0.54941999912261963, 0.83173567056655884, 0.50011807680130005, 0.73186153173446655, 0.52439314126968384, 0.57066303491592407, 0.62881487607955933, 0.51238405704498291, 0.51307779550552368, 0.51549327373504639, 0.52850592136383057, 0.51307779550552368, 0.86720371246337891, 0.87388944625854492, 0.89012742042541504]\n"
     ]
    }
   ],
   "source": [
    "act_prob = [np_df.Pred_Prob_Pos.ix[x] for x in act_hits]\n",
    "print act_prob"
   ]
  },
  {
   "cell_type": "code",
   "execution_count": 132,
   "metadata": {
    "collapsed": false
   },
   "outputs": [
    {
     "name": "stdout",
     "output_type": "stream",
     "text": [
      "0.616306742717\n",
      "0.117276465669\n"
     ]
    }
   ],
   "source": [
    "print np.mean(act_prob)\n",
    "print np.std(act_prob)"
   ]
  },
  {
   "cell_type": "code",
   "execution_count": 2,
   "metadata": {
    "collapsed": false
   },
   "outputs": [],
   "source": [
    "from sklearn.metrics import confusion_matrix"
   ]
  },
  {
   "cell_type": "code",
   "execution_count": null,
   "metadata": {
    "collapsed": true
   },
   "outputs": [],
   "source": []
  }
 ],
 "metadata": {
  "anaconda-cloud": {},
  "kernelspec": {
   "display_name": "Python [conda env:dsi]",
   "language": "python",
   "name": "conda-env-dsi-py"
  },
  "language_info": {
   "codemirror_mode": {
    "name": "ipython",
    "version": 2
   },
   "file_extension": ".py",
   "mimetype": "text/x-python",
   "name": "python",
   "nbconvert_exporter": "python",
   "pygments_lexer": "ipython2",
   "version": "2.7.12"
  }
 },
 "nbformat": 4,
 "nbformat_minor": 1
}
