{
 "cells": [
  {
   "cell_type": "code",
   "execution_count": 275,
   "metadata": {
    "collapsed": true
   },
   "outputs": [],
   "source": [
    "# Copyright © 2016 by Marena Trinidad. All rights reserved."
   ]
  },
  {
   "cell_type": "code",
   "execution_count": 276,
   "metadata": {
    "collapsed": false
   },
   "outputs": [],
   "source": [
    "import pandas as pd\n",
    "import os\n",
    "import numpy as np\n",
    "import seaborn as sns\n",
    "from rdkit.Chem import FragmentCatalog\n",
    "from rdkit import Chem\n",
    "from rdkit import RDConfig\n",
    "import matplotlib as plt\n",
    "%matplotlib inline\n",
    "sns.set_style(\"darkgrid\")"
   ]
  },
  {
   "cell_type": "code",
   "execution_count": 106,
   "metadata": {
    "collapsed": false
   },
   "outputs": [],
   "source": [
    "db_sizes = [500, 1000, 2000, 3000, 5000, 10000, 15000, 20000, 30000, 35000, 40000, 45000, 60000]\n",
    "dbs = [500, 1000, 2000, 3000]\n",
    "db_list = dict()\n",
    "for s in dbs:\n",
    "    smi_name = str(s) + \"smiles\"\n",
    "    file_path = \"/Users/marenaisabelle/CODE/GADSI/FinalDrafts/\" + smi_name\n",
    "    temp = pd.read_csv(file_path, header=None)  \n",
    "    db_list[s] = [x for x in temp[0]]\n",
    "temp = pd.read_csv(\"/Users/marenaisabelle/CODE/GADSI/FinalDrafts/51ksmiles\", header=None)\n",
    "db_list[10000] = [x for x in temp[0]]\n",
    "temp = pd.read_csv(\"/Users/marenaisabelle/CODE/GADSI/FinalDrafts/53ksmiles\", header=None)\n",
    "db_list[5000] = [x for x in temp[0]]\n",
    "temp = pd.read_csv(\"/Users/marenaisabelle/CODE/54ksmilescopy\", header=None)\n",
    "db_list[15000] = [x for x in temp[0]]\n",
    "temp = pd.read_csv(\"/Users/marenaisabelle/CODE/57ksmilescopy\", header=None)\n",
    "db_list[20000] = [x for x in temp[0]]\n",
    "temp = pd.read_csv(\"/Users/marenaisabelle/CODE/511ksmilescopy\", header=None)\n",
    "db_list[30000] = [x for x in temp[0]]\n",
    "temp = pd.read_csv(\"/Users/marenaisabelle/CODE/517ksmilescopy\", header=None)\n",
    "db_list[35000] = [x for x in temp[0]]\n",
    "temp = pd.read_csv(\"/Users/marenaisabelle/CODE/526ksmilescopy\", header=None)\n",
    "db_list[40000] = [x for x in temp[0]]\n",
    "temp = pd.read_csv(\"/Users/marenaisabelle/CODE/45ksm\", header=None)\n",
    "db_list[45000] = [x for x in temp[0]]\n",
    "temp = pd.read_csv(\"/Users/marenaisabelle/CODE/60ksm\", header=None)\n",
    "db_list[60000] = [x for x in temp[0]]"
   ]
  },
  {
   "cell_type": "code",
   "execution_count": 107,
   "metadata": {
    "collapsed": false
   },
   "outputs": [],
   "source": [
    "# GENERATE A FRAGMENT CATALOG FOR EACH DB SAMPLING AND FIND SIZE OF FRAG SPACE\n",
    "fName = os.path.join(RDConfig.RDDataDir,'FunctionalGroups.txt')\n",
    "frag_amts = []\n",
    "\n",
    "for db in db_sizes[-1:]:\n",
    "    fparams = FragmentCatalog.FragCatParams(1,6,fName)\n",
    "    cat = FragmentCatalog.FragCatalog(fparams)\n",
    "    fcgen = FragmentCatalog.FragCatGenerator()\n",
    "    temp = db_list[db]\n",
    "    \n",
    "    for s in temp:\n",
    "        try:\n",
    "            m = Chem.MolFromSmiles(s)\n",
    "        except Exception as e:\n",
    "            pass\n",
    "        try:\n",
    "            nAdded=fcgen.AddFragsFromMol(m, cat)\n",
    "        except Exception as e:\n",
    "            pass\n",
    "    size = cat.GetNumEntries()\n",
    "    t = (db, size)\n",
    "    frag_amts.append(t)"
   ]
  },
  {
   "cell_type": "code",
   "execution_count": 271,
   "metadata": {
    "collapsed": false,
    "scrolled": true
   },
   "outputs": [
    {
     "name": "stdout",
     "output_type": "stream",
     "text": [
      "Populating the interactive namespace from numpy and matplotlib\n"
     ]
    },
    {
     "name": "stderr",
     "output_type": "stream",
     "text": [
      "/Users/marenaisabelle/anaconda/envs/my-rdkit-env/lib/python2.7/site-packages/IPython/core/magics/pylab.py:161: UserWarning: pylab import has clobbered these variables: ['poly']\n",
      "`%matplotlib` prevents importing * from pylab and numpy\n",
      "  \"\\n`%matplotlib` prevents importing * from pylab and numpy\"\n"
     ]
    }
   ],
   "source": [
    "import matplotlib.pyplot as plt\n",
    "%pylab inline\n",
    "yt = [45194, 72200, 120492, 156677, 236069, 347939, 445289, 532911, 620588, 741139, 779322, 839984, 986224]"
   ]
  },
  {
   "cell_type": "code",
   "execution_count": 267,
   "metadata": {
    "collapsed": false
   },
   "outputs": [],
   "source": [
    "# PREPARE PLOT\n",
    "db_size = [500, 1000, 2000, 3000, 5000, 10000, 15000, 20000, 30000, 35000, 40000, 45000, 60000]\n",
    "xi = [500, 1000, 2000, 3000, 5000, 10000, 15000, 20000, 30000, 35000, 40000, 45000, 60000, \n",
    "        75000, 100000, 120000, 140000, 160000, 180000, 200000, 220000, 230000, 250000, 270000, 300000]"
   ]
  },
  {
   "cell_type": "code",
   "execution_count": 245,
   "metadata": {
    "collapsed": false
   },
   "outputs": [],
   "source": [
    "z = np.polyfit(db_size, np.log(yt), 1)"
   ]
  },
  {
   "cell_type": "code",
   "execution_count": 246,
   "metadata": {
    "collapsed": false
   },
   "outputs": [
    {
     "name": "stdout",
     "output_type": "stream",
     "text": [
      "[  4.39566404e-05   1.17723326e+01]\n"
     ]
    }
   ],
   "source": [
    "print z"
   ]
  },
  {
   "cell_type": "code",
   "execution_count": 255,
   "metadata": {
    "collapsed": true
   },
   "outputs": [],
   "source": [
    "zx = lambda x: 4.39566404e-05 + 11.772332583482433*x"
   ]
  },
  {
   "cell_type": "code",
   "execution_count": 268,
   "metadata": {
    "collapsed": false
   },
   "outputs": [],
   "source": [
    "new = [zx(i) for i in xi]"
   ]
  },
  {
   "cell_type": "code",
   "execution_count": 270,
   "metadata": {
    "collapsed": false
   },
   "outputs": [
    {
     "data": {
      "image/png": "[encoded data removed]",
      "text/plain": [
       "<matplotlib.figure.Figure at 0x21a683a50>"
      ]
     },
     "metadata": {},
     "output_type": "display_data"
    }
   ],
   "source": [
    "ax = plot(xi, new)\n",
    "_=yscale(\"log\")\n",
    "_=xlabel('Number Molecules in Training Corpus', fontsize=12)\n",
    "_=ylabel('Number of Fragments (r = 2)', fontsize=12)\n",
    "_=title('Rarefaction Extimate of Max. Possible Fragments', fontsize=12)"
   ]
  },
  {
   "cell_type": "code",
   "execution_count": 278,
   "metadata": {
    "collapsed": true
   },
   "outputs": [],
   "source": [
    "# LOAD DATA\n",
    "chem_lib = pd.read_csv('/Users/marenaisabelle/CODE/GADSI/fulldf') # Train Chemical df: PCID, Activity, SMILES\n",
    "from rdkit import Chem\n",
    "from rdkit import DataStructs\n",
    "from rdkit.Chem import AllChem\n",
    "\n",
    "frag_amts = []\n",
    "fparams = FragmentCatalog.FragCatParams(1,6,fName)\n",
    "cat = FragmentCatalog.FragCatalog(fparams)\n",
    "fcgen = FragmentCatalog.FragCatGenerator()\n",
    "temp = db_list[db]\n",
    "    \n",
    "for s in chem_lib['Smiles']:\n",
    "    try:\n",
    "        m = Chem.MolFromSmiles(s)\n",
    "    except Exception as e:\n",
    "        pass\n",
    "    try:\n",
    "        nAdded=fcgen.AddFragsFromMol(m, cat)\n",
    "    except Exception as e:\n",
    "        pass\n",
    "size = cat.GetNumEntries()\n",
    "t = (db, size)\n",
    "frag_amts.append(t)"
   ]
  },
  {
   "cell_type": "code",
   "execution_count": 280,
   "metadata": {
    "collapsed": false
   },
   "outputs": [
    {
     "name": "stdout",
     "output_type": "stream",
     "text": [
      "[(60000, 233064)]\n"
     ]
    }
   ],
   "source": [
    "print frag_amts"
   ]
  },
  {
   "cell_type": "code",
   "execution_count": null,
   "metadata": {
    "collapsed": true
   },
   "outputs": [],
   "source": []
  }
 ],
 "metadata": {
  "anaconda-cloud": {},
  "kernelspec": {
   "display_name": "Python [conda env:my-rdkit-env]",
   "language": "python",
   "name": "conda-env-my-rdkit-env-py"
  },
  "language_info": {
   "codemirror_mode": {
    "name": "ipython",
    "version": 2
   },
   "file_extension": ".py",
   "mimetype": "text/x-python",
   "name": "python",
   "nbconvert_exporter": "python",
   "pygments_lexer": "ipython2",
   "version": "2.7.12"
  }
 },
 "nbformat": 4,
 "nbformat_minor": 1
}
