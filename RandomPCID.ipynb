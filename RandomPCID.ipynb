{
 "cells": [
  {
   "cell_type": "code",
   "execution_count": 1,
   "metadata": {
    "collapsed": true
   },
   "outputs": [],
   "source": [
    "import pandas as pd\n",
    "import numpy as np\n",
    "from pubchempy import *\n",
    "from random import randint"
   ]
  },
  {
   "cell_type": "code",
   "execution_count": null,
   "metadata": {
    "collapsed": false
   },
   "outputs": [],
   "source": [
    "db_size = [500, 1000, 2000, 3000, 4000, 5000, 10000, 15000, 20000]\n",
    "\n",
    "for y in db_size:\n",
    "    temp = []\n",
    "    random_pcids = [randint(10000, 999999) for x in range(1,y+1)]\n",
    "    for r in random_pcids:\n",
    "        p = get_properties('CanonicalSMILES', r, namespace=u'cid')\n",
    "        temp.append(p[0].values()[0])\n",
    "    filename = str(y) + 'smiles'\n",
    "    pd.Series(temp).to_csv(filename, index=None)"
   ]
  },
  {
   "cell_type": "code",
   "execution_count": null,
   "metadata": {
    "collapsed": false
   },
   "outputs": [],
   "source": [
    "import pandas as pd\n",
    "import numpy as np\n",
    "from pubchempy import *\n",
    "from random import randint\n",
    "temp = []\n",
    "random_pcids = [randint(10000, 999999) for x in range(1,5001)]\n",
    "for r in random_pcids:\n",
    "    p = get_properties('CanonicalSMILES', r, namespace=u'cid')\n",
    "    temp.append(p[0].values()[0])\n",
    "filename = str(51) + 'ksmiles'\n",
    "pd.Series(temp).to_csv(filename, index=None)"
   ]
  },
  {
   "cell_type": "code",
   "execution_count": null,
   "metadata": {
    "collapsed": true
   },
   "outputs": [],
   "source": [
    "temp = []\n",
    "random_pcids = [randint(10000, 999999) for x in range(1,5001)]\n",
    "for r in random_pcids:\n",
    "    p = get_properties('CanonicalSMILES', r, namespace=u'cid')\n",
    "    temp.append(p[0].values()[0])\n",
    "filename = str(52) + 'ksmiles'\n",
    "pd.Series(temp).to_csv(filename, index=None)"
   ]
  },
  {
   "cell_type": "code",
   "execution_count": null,
   "metadata": {
    "collapsed": true
   },
   "outputs": [],
   "source": [
    "temp = []\n",
    "random_pcids = [randint(10000, 999999) for x in range(1,5001)]\n",
    "for r in random_pcids:\n",
    "    p = get_properties('CanonicalSMILES', r, namespace=u'cid')\n",
    "    temp.append(p[0].values()[0])\n",
    "filename = str(53) + 'ksmiles'\n",
    "pd.Series(temp).to_csv(filename, index=None)"
   ]
  },
  {
   "cell_type": "code",
   "execution_count": 12,
   "metadata": {
    "collapsed": true
   },
   "outputs": [],
   "source": [
    "np_hit_smi = ['COc1cc(OC)c(cc1CCC(NCCC(c1ccccc1)c1ccccc1)C)OC.Cl', 'OCC1OC(O[C@H]2CC3[C@]4(C)C[C@@H](C([C@@]4(C)CC[C@]43[C@@]3(C2C(C)(C)C(CC3)OC2OCC(C(C2O)O)O)C4)[C@@]2(C)CC[C@H](O2)C(OC2OC(CO)C(C(C2O)O)O)(C)C)O)C(C(C1O)O)O', 'CC1C(C1(Cl)Cl)C1(C)CCC2C(O1)c1ccccc1OC2(C)C', 'CC[C@@H](C(=O)[C@H]([C@H]([C@@H](CCc1ccc(c(c1C(=O)[O-])O)C)C)O)C)[C@H]1O[C@](C[C@@H]1C)(CC)[C@H]1CC[C@]([C@@H](O1)C)(O)CC.[Na+]', 'Cc1ccc(cc1)C(c1ccc(cc1)OC(C)C)CCNC(c1ccc(cc1)Cl)C', 'COc1ccc(cc1)C(NCCC(c1ccc(cc1)OC(C)C)c1ccccc1)C', 'Cc1ccc(cc1)C(c1ccc(cc1)OC(C)C)CCNC(c1ccccc1)C', 'CC(Oc1ccc(cc1)C(c1ccccc1)CCNC(c1ccccc1)C)C', 'CC(Oc1ccc(cc1)C(c1ccccc1)CCNC(c1ccc(cc1)Cl)C)C', 'CCC[C@H]1CN([C@@H](C1)C(=O)NC([C@H]1O[C@H](SC)[C@@H]([C@H]([C@H]1O)O)O)C(Cl)C)C.O.Cl', 'CC(Oc1ccc(cc1)C(c1ccccc1)CCNCc1ccc(cc1)Cl)C', 'Clc1ccc(cc1)CNCCC(c1ccc2c(c1)OCO2)c1ccccc1', 'CO[C@H]1/C=C/O[C@@]2(C)Oc3c(C2=O)c2C(=O)C(=C(C(=O)c2c(c3C)O)NC(=O)/C(=C\\\\C=C\\\\[C@@H]([C@@H]([C@H]([C@@H]([C@@H]([C@@H]([C@@H]1C)OC(=O)C)C)O)C)O)C)/C)N1CCN(CC1)C(c1ccc(cc1)Cl)c1ccccc1', 'CO[C@H]1/C=C/O[C@@]2(C)Oc3c(C2=O)c2C(=O)C(=C(C(=O)c2c(c3C)O)NC(=O)/C(=C\\\\C=C\\\\[C@@H]([C@H]2[C@H]([C@@H]([C@@H]([C@@H]([C@@H]1C)OC(=O)C)C)OC(C)(C)O2)C)C)/C)NC1CC1', 'CO[C@H]1/C=C/O[C@@]2(C)Oc3c(C2=O)c2C(=O)C(=C(C(=O)c2c(c3C)O)NC(=O)/C(=C\\\\C=C\\\\[C@@H]([C@H]2[C@H]([C@@H]([C@@H]([C@@H]([C@@H]1C)OC(=O)C)C)OC(C)(C)O2)C)C)/C)N(CC)CC', 'CO[C@H]1/C=C/O[C@@]2(C)Oc3c(C2=O)c2C(=O)C(=C(C(=O)c2c(c3C)O)NC(=O)/C(=C\\\\C=C\\\\[C@@H]([C@@H]([C@H]([C@@H]([C@@H]([C@@H]([C@@H]1C)OC(=O)C)C)O)C)O)C)/C)N1CCN(CC1)c1ccc(cc1Cl)[N+](=O)[O-]', 'CO[C@H]1/C=C/O[C@@]2(C)Oc3c(C2=O)c2C(=O)C(=C(C(=O)c2c(c3C)O)NC(=O)/C(=C\\\\C=C\\\\[C@@H]([C@@H]([C@H]([C@@H]([C@@H]([C@@H]([C@@H]1C)OC(=O)C)C)O)C)O)C)/C)N1CCCC(C1)C(=O)N', 'CO[C@H]([C@@H]([C@H]1OC2(CC[C@@](O2)(C)[C@H]2CC[C@@](O2)(CC)[C@@H]2O[C@H](C[C@@H]2C)[C@H]2O[C@@](O)(CO)[C@@H](C[C@@H]2C)C)C[C@@H]([C@H]1C)O)C)[C@@H](C(=O)[O-])C.[Na+]', 'CO[C@H]1/C=C/O[C@@]2(C)Oc3c(C2=O)c2C(=O)C(=C(C(=O)c2c(c3C)O)NC(=O)/C(=C\\\\C=C\\\\[C@@H]([C@@H]([C@H]([C@@H]([C@@H]([C@@H]([C@@H]1C)OC(=O)C)C)O)C)O)C)/C)Nc1ccc(cc1)Br', 'N[C@H]1C[C@@H](O[C@H]([C@H]1O)C)O[C@H]1C[C@@](O)(Cc2c1c(O)c1c(c2O)C(=O)c2c(C1=O)c(O)ccc2)C(=O)C.Cl', 'CO[C@H]1/C=C/O[C@@]2(C)Oc3c(C2=O)c2C(=O)C(=C(C(=O)c2c(c3C)O)NC(=O)/C(=C\\\\C=C\\\\[C@@H]([C@@H]([C@H]([C@@H]([C@@H]([C@@H]([C@@H]1C)OC(=O)C)C)O)C)O)C)/C)Nc1cccc(c1)Cl', 'CCN[C@@H]1[C@H](O)[C@H](O[C@H]2/C=C/C=C/C=C/C=C/C=C/C=C/C=C/[C@H](C)C(OC(=O)CC(=O)CCCC(=O)C[C@H](C[C@H](C[C@H](CC(=O)C[C@@H]([C@H](C(C2)O)C(=O)OCC)O)O)O)O)C(CC(C(CC(=O)c2ccc(cc2)N)O)C)C)O[C@@H]([C@H]1O)C', 'OC[C@@H]1O[C@H](O[C@H]2C[C@@H]3[C@]4([C@@]5(C2C(C)(C)[C@H](CC5)O[C@@H]2OC[C@H]([C@@H]([C@H]2O)O)O)C4)CC[C@]2([C@@]3(C)C[C@@H]([C@@H]2[C@@]2(C)CC[C@H](O2)C(O)(C)C)O)C)[C@H]([C@@H]([C@H]1O)O)O', 'OC[C@H]1O[C@@H](O[C@H]2CC[C@]34C(C2(C)C)[C@@H](O)C[C@@H]2[C@@]4(C3)CC[C@]3([C@@]2(C)C[C@@H]([C@@H]3[C@@]2(C)CC[C@H](O2)C(O)(C)C)O)C)[C@@H]([C@H]([C@@H]1O)O)O[C@@H]1OC[C@]([C@H]1O)(O)CO', 'OC[C@@H]1O[C@H](O[C@H]2C[C@H]3[C@]4(C)C[C@@H]([C@@H]([C@@]4(C)CC[C@]43[C@@]3(C2C(C)(C)[C@H](CC3)OC2OC[C@H]([C@@H]([C@H]2O)O)O)C4)[C@@]2(C)CC[C@H](O2)C(O[C@H]2O[C@@H](CO)[C@@H]([C@H]([C@@H]2O)O)O)(C)C)O)[C@H]([C@@H]([C@H]1O)O)O', 'OCC1OC(O[C@H]2CC3[C@]4([C@@]5(C2C(C)(C)C(CC5)OC2OCC(C(C2O)O)O)C4)CC[C@]2([C@@]3(C)C[C@@H](C2[C@@]2(C)CC[C@H](O2)C(O)(C)C)O)C)C(C(C1O)O)O', 'CCC([C@H]1O[C@@]2(C=C[C@@H]1C)O[C@@H]1C/C=C(\\\\C)/[C@@H](O[C@H]3C[C@H](OC)[C@H]([C@@H](O3)C)O[C@H]3C[C@H](OC)[C@H]([C@@H](O3)C)NC(=O)C)[C@@H](C)/C=C/C=C\\\\3/[C@]4([C@H](C(=O)O[C@H](C2)C1)C=C(C)[C@H]([C@H]4OC3)O)O)C', 'OC(=O)c1ccccc1.CC[C@@H]([C@H]1O[C@@]2(C=C[C@@H]1C)O[C@@H]1C/C=C(\\\\C)/[C@@H](O[C@H]3C[C@H](OC)[C@H]([C@@H](O3)C)O[C@H]3C[C@H](OC)[C@@H]([C@@H](O3)C)NC)[C@@H](C)/C=C/C=C\\\\3/[C@]4([C@H](C(=O)O[C@H](C2)C1)C=C(C)[C@H]([C@H]4OC3)O)O)C', 'CO[C@H]1C[C@H](O[C@H]2[C@@H](C)/C=C/C=C/3\\\\CO[C@H]4[C@]3(O)[C@@H](C=C([C@H]4O)C)C(=O)O[C@H]3C[C@@H](C/C=C/2\\\\C)O[C@]2(C3)C=C[C@@H]([C@H](O2)C(CC)C)C)O[C@H]([C@@H]1O[C@H]1C[C@H](OC)[C@H]([C@@H](O1)C)O)C']\n",
    "hit_pcid = []"
   ]
  },
  {
   "cell_type": "code",
   "execution_count": 10,
   "metadata": {
    "collapsed": false
   },
   "outputs": [
    {
     "name": "stdout",
     "output_type": "stream",
     "text": [
      "[Compound(24747640)]\n"
     ]
    }
   ],
   "source": [
    "c = get_compounds('COc1cc(OC)c(cc1CCC(NCCC(c1ccccc1)c1ccccc1)C)OC.Cl', 'smiles')\n",
    "pr"
   ]
  },
  {
   "cell_type": "code",
   "execution_count": 17,
   "metadata": {
    "collapsed": false
   },
   "outputs": [
    {
     "ename": "AttributeError",
     "evalue": "'Compound' object has no attribute 'values'",
     "output_type": "error",
     "traceback": [
      "\u001b[0;31m---------------------------------------------------------------------------\u001b[0m",
      "\u001b[0;31mAttributeError\u001b[0m                            Traceback (most recent call last)",
      "\u001b[0;32m<ipython-input-17-e420bb4d8c16>\u001b[0m in \u001b[0;36m<module>\u001b[0;34m()\u001b[0m\n\u001b[0;32m----> 1\u001b[0;31m \u001b[0mc\u001b[0m\u001b[0;34m[\u001b[0m\u001b[0;36m0\u001b[0m\u001b[0;34m]\u001b[0m\u001b[0;34m.\u001b[0m\u001b[0mvalues\u001b[0m\u001b[0;34m\u001b[0m\u001b[0m\n\u001b[0m",
      "\u001b[0;31mAttributeError\u001b[0m: 'Compound' object has no attribute 'values'"
     ]
    }
   ],
   "source": [
    "c[0].values"
   ]
  },
  {
   "cell_type": "code",
   "execution_count": 13,
   "metadata": {
    "collapsed": false
   },
   "outputs": [],
   "source": [
    "for s in np_hit_smi:\n",
    "    c = get_compounds(s, 'smiles')\n",
    "    hit_pcid.append(c)"
   ]
  },
  {
   "cell_type": "code",
   "execution_count": 14,
   "metadata": {
    "collapsed": false,
    "scrolled": true
   },
   "outputs": [
    {
     "name": "stdout",
     "output_type": "stream",
     "text": [
      "[[Compound(24747640)], [Compound(44660847)], [Compound(4438250)], [Compound(6426773)], [Compound(3799698)], [Compound(3289003)], [Compound(3697756)], [Compound(5124210)], [Compound(3842787)], [Compound(24856240)], [Compound(4314926)], [Compound(2921730)], [Compound(16398466)], [Compound(16398469)], [Compound(16398485)], [Compound(16398591)], [Compound(16398867)], [Compound(23692128)], [Compound(16398991)], [Compound(11570269)], [Compound(16400140)], [Compound(16401391)], [Compound(16401410)], [Compound(16401434)], [Compound(16401673)], [Compound()], [Compound(16394582)], [Compound(11643729)], [Compound(6858006)]]\n"
     ]
    }
   ],
   "source": [
    "print hit_pcid"
   ]
  },
  {
   "cell_type": "code",
   "execution_count": null,
   "metadata": {
    "collapsed": true
   },
   "outputs": [],
   "source": []
  }
 ],
 "metadata": {
  "anaconda-cloud": {},
  "kernelspec": {
   "display_name": "Python [conda env:dsi]",
   "language": "python",
   "name": "conda-env-dsi-py"
  },
  "language_info": {
   "codemirror_mode": {
    "name": "ipython",
    "version": 2
   },
   "file_extension": ".py",
   "mimetype": "text/x-python",
   "name": "python",
   "nbconvert_exporter": "python",
   "pygments_lexer": "ipython2",
   "version": "2.7.12"
  }
 },
 "nbformat": 4,
 "nbformat_minor": 1
}
