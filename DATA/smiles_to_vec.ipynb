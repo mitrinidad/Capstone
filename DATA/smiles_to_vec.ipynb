{
 "cells": [
  {
   "cell_type": "code",
   "execution_count": 20,
   "metadata": {
    "collapsed": false
   },
   "outputs": [],
   "source": [
    "import pandas as pd\n",
    "import numpy as np\n",
    "import matplotlib as plt\n",
    "%matplotlib inline"
   ]
  },
  {
   "cell_type": "code",
   "execution_count": 21,
   "metadata": {
    "collapsed": true
   },
   "outputs": [],
   "source": [
    "# LOAD ACTIVITY-ANNOTATED CHEMICAL LIBRARY\n",
    "full_df = pd.read_csv('/Users/marenaisabelle/CODE/GADSI/fulldf')"
   ]
  },
  {
   "cell_type": "code",
   "execution_count": 22,
   "metadata": {
    "collapsed": false
   },
   "outputs": [
    {
     "data": {
      "text/html": [
       "<div>\n",
       "<table border=\"1\" class=\"dataframe\">\n",
       "  <thead>\n",
       "    <tr style=\"text-align: right;\">\n",
       "      <th></th>\n",
       "      <th>PC_CID</th>\n",
       "      <th>Activity</th>\n",
       "      <th>Smiles</th>\n",
       "    </tr>\n",
       "  </thead>\n",
       "  <tbody>\n",
       "    <tr>\n",
       "      <th>0</th>\n",
       "      <td>646155.0</td>\n",
       "      <td>0.0</td>\n",
       "      <td>C1CN(CCN1CCCCN2C(=O)C3=CC=CC=C3C2=O)C(=O)C4=C...</td>\n",
       "    </tr>\n",
       "    <tr>\n",
       "      <th>1</th>\n",
       "      <td>2123.0</td>\n",
       "      <td>0.0</td>\n",
       "      <td>CN(C)C1=NC(=NC(=N1)N(C)C)N(C)C</td>\n",
       "    </tr>\n",
       "    <tr>\n",
       "      <th>2</th>\n",
       "      <td>66644.0</td>\n",
       "      <td>0.0</td>\n",
       "      <td>C1=CC=C(C(=C1)C(=O)NO)O</td>\n",
       "    </tr>\n",
       "    <tr>\n",
       "      <th>3</th>\n",
       "      <td>5803.0</td>\n",
       "      <td>0.0</td>\n",
       "      <td>C1=CC(=C(C=C1OC2=C(C=C(C=C2I)CC(=O)O)I)I)O</td>\n",
       "    </tr>\n",
       "    <tr>\n",
       "      <th>4</th>\n",
       "      <td>5803.0</td>\n",
       "      <td>0.0</td>\n",
       "      <td>C1=CC(=C(C=C1OC2=C(C=C(C=C2I)CC(=O)O)I)I)O</td>\n",
       "    </tr>\n",
       "  </tbody>\n",
       "</table>\n",
       "</div>"
      ],
      "text/plain": [
       "     PC_CID  Activity                                             Smiles\n",
       "0  646155.0       0.0   C1CN(CCN1CCCCN2C(=O)C3=CC=CC=C3C2=O)C(=O)C4=C...\n",
       "1    2123.0       0.0                     CN(C)C1=NC(=NC(=N1)N(C)C)N(C)C\n",
       "2   66644.0       0.0                            C1=CC=C(C(=C1)C(=O)NO)O\n",
       "3    5803.0       0.0         C1=CC(=C(C=C1OC2=C(C=C(C=C2I)CC(=O)O)I)I)O\n",
       "4    5803.0       0.0         C1=CC(=C(C=C1OC2=C(C=C(C=C2I)CC(=O)O)I)I)O"
      ]
     },
     "execution_count": 22,
     "metadata": {},
     "output_type": "execute_result"
    }
   ],
   "source": [
    "full_df.head()"
   ]
  },
  {
   "cell_type": "code",
   "execution_count": 19,
   "metadata": {
    "collapsed": false,
    "scrolled": true
   },
   "outputs": [
    {
     "name": "stdout",
     "output_type": "stream",
     "text": [
      "0.0    10225\n",
      "1.0      241\n",
      "Name: Activity, dtype: int64\n"
     ]
    },
    {
     "data": {
      "text/plain": [
       "<matplotlib.text.Text at 0x112fa8710>"
      ]
     },
     "execution_count": 19,
     "metadata": {},
     "output_type": "execute_result"
    },
    {
     "data": {
      "image/png": "[encoded data removed]",
      "text/plain": [
       "<matplotlib.figure.Figure at 0x112f4ac10>"
      ]
     },
     "metadata": {},
     "output_type": "display_data"
    }
   ],
   "source": [
    "# ACTIVE COMPOUND STATISTICS\n",
    "print full_df.Activity.value_counts()\n",
    "\n",
    "fig = full_df.Activity.value_counts().plot(kind='bar')\n",
    "group_labels = ['Inactive', 'Active']\n",
    "fig.set_title('COMPOUND ACTIVITY: TRAIN SET')\n",
    "fig.set_xlabel('Activity Class')\n",
    "fig.set_xticklabels(group_labels, rotation ='horizontal')\n",
    "fig.set_ylabel('Count')"
   ]
  },
  {
   "cell_type": "code",
   "execution_count": 10,
   "metadata": {
    "collapsed": true
   },
   "outputs": [],
   "source": [
    "# EXTRACT SMILES FROM DF\n",
    "smiles = full_df.Smiles"
   ]
  },
  {
   "cell_type": "code",
   "execution_count": null,
   "metadata": {
    "collapsed": false
   },
   "outputs": [],
   "source": [
    "# GENERATE MOLECULAR FINGERPRINTS:\n",
    "\n",
    "mols, np_fps , bit_fps= [], [], []\n",
    "\n",
    "for m in full_df.Smiles.values:\n",
    "    mol = Chem.MolFromSmiles(m)\n",
    "    mols.append(mol)\n",
    "    fp = AllChem.GetMorganFingerprintAsBitVect(mol,2)\n",
    "    bit_fps.append(fp)\n",
    "    arr = np.zeros((1,))\n",
    "    DataStructs.ConvertToNumpyArray(fp, arr)\n",
    "    np_fps.append(arr)"
   ]
  },
  {
   "cell_type": "code",
   "execution_count": null,
   "metadata": {
    "collapsed": false
   },
   "outputs": [],
   "source": [
    "# CALCULATE TANIMOTO SIMILARITY SCORES\n",
    "similarity_scores = DataStructs.BulkTanimotoSimilarity(bit_fps[1], bit_fps[1:])"
   ]
  },
  {
   "cell_type": "code",
   "execution_count": 206,
   "metadata": {
    "collapsed": true
   },
   "outputs": [],
   "source": [
    "# CREATE FINGERPRINT-CLUSTER FUNCTION\n",
    "\n",
    "def ClusterFps(fps,cutoff=0.2):\n",
    "    from rdkit.DataStructs import BulkTanimotoSimilarity\n",
    "    from rdkit.ML.Cluster import Butina\n",
    "\n",
    "    # first generate the distance matrix:\n",
    "    dists = []\n",
    "    nfps = len(fps)\n",
    "    for i in range(0,nfps):\n",
    "        sims = DataStructs.BulkTanimotoSimilarity(fps[i], fps[:i])\n",
    "        dists.extend([1-x for x in sims])\n",
    "\n",
    "    # now cluster the data:\n",
    "    cs = Butina.ClusterData(dists,nfps,cutoff,isDistData=True)\n",
    "    return cs"
   ]
  },
  {
   "cell_type": "code",
   "execution_count": 267,
   "metadata": {
    "collapsed": false,
    "scrolled": true
   },
   "outputs": [],
   "source": [
    "# CALCULATE CLUSTERS AND CLUSTER MEMBERSHIP\n",
    "clust = ClusterFps(bit_fps, cutoff=.91) # accepts bitvec data only\n",
    "cluster = [x for x in clust if len(x)>3]"
   ]
  },
  {
   "cell_type": "code",
   "execution_count": 271,
   "metadata": {
    "collapsed": false
   },
   "outputs": [
    {
     "data": {
      "text/plain": [
       "7"
      ]
     },
     "execution_count": 271,
     "metadata": {},
     "output_type": "execute_result"
    }
   ],
   "source": [
    "len(cluster)"
   ]
  }
 ],
 "metadata": {
  "anaconda-cloud": {},
  "kernelspec": {
   "display_name": "Python [conda env:my-rdkit-env]",
   "language": "python",
   "name": "conda-env-my-rdkit-env-py"
  },
  "language_info": {
   "codemirror_mode": {
    "name": "ipython",
    "version": 2
   },
   "file_extension": ".py",
   "mimetype": "text/x-python",
   "name": "python",
   "nbconvert_exporter": "python",
   "pygments_lexer": "ipython2",
   "version": "2.7.12"
  }
 },
 "nbformat": 4,
 "nbformat_minor": 1
}
