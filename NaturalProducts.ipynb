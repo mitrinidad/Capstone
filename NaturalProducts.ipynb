{
 "cells": [
  {
   "cell_type": "code",
   "execution_count": 31,
   "metadata": {
    "collapsed": true
   },
   "outputs": [],
   "source": [
    "import pandas as pd\n",
    "import numpy as np\n",
    "import pickle"
   ]
  },
  {
   "cell_type": "code",
   "execution_count": 32,
   "metadata": {
    "collapsed": false
   },
   "outputs": [],
   "source": [
    "np_df = pd.read_csv('/Users/marenaisabelle/Downloads/ibs2016oct_nc.smi', header = None)"
   ]
  },
  {
   "cell_type": "code",
   "execution_count": 33,
   "metadata": {
    "collapsed": false
   },
   "outputs": [
    {
     "name": "stdout",
     "output_type": "stream",
     "text": [
      "<class 'pandas.core.frame.DataFrame'>\n",
      "RangeIndex: 64576 entries, 0 to 64575\n",
      "Data columns (total 2 columns):\n",
      "stock_num    64576 non-null object\n",
      "Smiles       64576 non-null object\n",
      "dtypes: object(2)\n",
      "memory usage: 1009.1+ KB\n"
     ]
    }
   ],
   "source": [
    "np_df['stock_num'] = [x.split('\\t')[1] for x in np_df[0]]\n",
    "np_df['Smiles'] = [x.split('\\t')[0] for x in np_df[0]]\n",
    "np_df = np_df.drop(0, axis = 1)\n",
    "np_df.info()"
   ]
  },
  {
   "cell_type": "code",
   "execution_count": 4,
   "metadata": {
    "collapsed": false
   },
   "outputs": [],
   "source": [
    "natural_products = np_df.to_csv('natural_products', index = False)"
   ]
  },
  {
   "cell_type": "code",
   "execution_count": 22,
   "metadata": {
    "collapsed": true
   },
   "outputs": [],
   "source": [
    "def make_fingerprints(smiles, radius = 2):\n",
    "    from rdkit import Chem\n",
    "    from rdkit import DataStructs\n",
    "    from rdkit.Chem import AllChem\n",
    "\n",
    "    mols, np_fps, arr = [], [], []\n",
    "\n",
    "    for m in smiles:\n",
    "        mol = Chem.MolFromSmiles(m)\n",
    "        mols.append(mol)\n",
    "        fp = AllChem.GetMorganFingerprintAsBitVect(mol, radius)\n",
    "        arr = np.zeros((1,))\n",
    "        DataStructs.ConvertToNumpyArray(fp, arr)\n",
    "        np_fps.append(arr)\n",
    "    return np_fps"
   ]
  },
  {
   "cell_type": "code",
   "execution_count": 23,
   "metadata": {
    "collapsed": false
   },
   "outputs": [],
   "source": [
    "mfps = make_fingerprints(np_df.Smiles)"
   ]
  },
  {
   "cell_type": "code",
   "execution_count": 26,
   "metadata": {
    "collapsed": false
   },
   "outputs": [],
   "source": [
    "with open('np_prints', 'wb') as f:\n",
    "    pickle.dump(mfps, f)"
   ]
  }
 ],
 "metadata": {
  "anaconda-cloud": {},
  "kernelspec": {
   "display_name": "Python [conda env:my-rdkit-env]",
   "language": "python",
   "name": "conda-env-my-rdkit-env-py"
  },
  "language_info": {
   "codemirror_mode": {
    "name": "ipython",
    "version": 2
   },
   "file_extension": ".py",
   "mimetype": "text/x-python",
   "name": "python",
   "nbconvert_exporter": "python",
   "pygments_lexer": "ipython2",
   "version": "2.7.12"
  }
 },
 "nbformat": 4,
 "nbformat_minor": 1
}
