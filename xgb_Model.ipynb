{
 "cells": [
  {
   "cell_type": "code",
   "execution_count": null,
   "metadata": {
    "collapsed": true
   },
   "outputs": [],
   "source": [
    "# Copyright © 2016 by Marena Trinidad. All rights reserved."
   ]
  },
  {
   "cell_type": "code",
   "execution_count": 35,
   "metadata": {
    "collapsed": false
   },
   "outputs": [],
   "source": [
    "import numpy as np\n",
    "import pandas as pd\n",
    "import joblib\n",
    "import xgboost as xgb \n",
    "import pickle\n",
    "from sklearn.grid_search import GridSearchCV\n",
    "from sklearn.cross_validation import StratifiedShuffleSplit, train_test_split\n",
    "%matplotlib inline"
   ]
  },
  {
   "cell_type": "code",
   "execution_count": 36,
   "metadata": {
    "collapsed": false
   },
   "outputs": [],
   "source": [
    "# LOAD DATA\n",
    "chem_lib = pd.read_csv('/Users/marenaisabelle/CODE/GADSI/fulldf')\n",
    "with open('/Users/marenaisabelle/CODE/GADSI/Capstone/pickle_prints','rb') as f: # Load pickled fingerprints by de-serialize\n",
    "    fps = pickle.load(f)"
   ]
  },
  {
   "cell_type": "code",
   "execution_count": 45,
   "metadata": {
    "collapsed": false
   },
   "outputs": [],
   "source": [
    "# DEFINE PREDICTORS(X= Fingerprints) AND TARGET(Y= Activity)\n",
    "x = np.asmatrix(fps)\n",
    "y = chem_lib.Activity.values"
   ]
  },
  {
   "cell_type": "code",
   "execution_count": 38,
   "metadata": {
    "collapsed": false
   },
   "outputs": [],
   "source": [
    "# DEFINE CV SCHEME\n",
    "sss = StratifiedShuffleSplit(y, n_iter=2) \n",
    "# Stratified-Shuffle-Splitto ensure train data preserves class imbalance in cv"
   ]
  },
  {
   "cell_type": "code",
   "execution_count": 7,
   "metadata": {
    "collapsed": false
   },
   "outputs": [],
   "source": [
    "# DEFINE PARAMS FOR GRIDSEARCH\n",
    "params = {\n",
    "    'objective' : ['binary:logistic'],\n",
    "    'max_depth' : [4, 8],\n",
    "    'n_estimators': [250, 500],\n",
    "    'learning_rate': [0.01, 0.03],\n",
    "    'subsample': [0.666], # Vary train/test to observe bias/variance tradeoff and class imbalance effects\n",
    "    'reg_lambda': [0.1, 1], # L2/Ridge Regularization for increased stringency\n",
    "    'seed' : [1024]\n",
    "    \n",
    "}"
   ]
  },
  {
   "cell_type": "code",
   "execution_count": 7,
   "metadata": {
    "collapsed": true
   },
   "outputs": [],
   "source": [
    "# DEFINE YOUR ESTIMATOR\n",
    "xgb_c = xgb.XGBClassifier()"
   ]
  },
  {
   "cell_type": "code",
   "execution_count": 8,
   "metadata": {
    "collapsed": false
   },
   "outputs": [],
   "source": [
    "# DEFINE GRIDSEARCH\n",
    "gsearch = GridSearchCV(xgb_c, param_grid=params, verbose=2, cv=sss, scoring='roc_auc')"
   ]
  },
  {
   "cell_type": "code",
   "execution_count": 248,
   "metadata": {
    "collapsed": false,
    "scrolled": true
   },
   "outputs": [
    {
     "name": "stdout",
     "output_type": "stream",
     "text": [
      "Fitting 2 folds for each of 16 candidates, totalling 32 fits\n",
      "[CV] learning_rate=0.01, n_estimators=250, subsample=0.666, reg_lambda=0.1, seed=1024, objective=binary:logistic, max_depth=4 \n",
      "[CV]  learning_rate=0.01, n_estimators=250, subsample=0.666, reg_lambda=0.1, seed=1024, objective=binary:logistic, max_depth=4 - 2.0min\n",
      "[CV] learning_rate=0.01, n_estimators=250, subsample=0.666, reg_lambda=0.1, seed=1024, objective=binary:logistic, max_depth=4 \n",
      "[CV]  learning_rate=0.01, n_estimators=250, subsample=0.666, reg_lambda=0.1, seed=1024, objective=binary:logistic, max_depth=4 - 2.0min\n",
      "[CV] learning_rate=0.01, n_estimators=250, subsample=0.666, reg_lambda=1, seed=1024, objective=binary:logistic, max_depth=4 \n",
      "[CV]  learning_rate=0.01, n_estimators=250, subsample=0.666, reg_lambda=1, seed=1024, objective=binary:logistic, max_depth=4 - 2.0min\n",
      "[CV] learning_rate=0.01, n_estimators=250, subsample=0.666, reg_lambda=1, seed=1024, objective=binary:logistic, max_depth=4 \n",
      "[CV]  learning_rate=0.01, n_estimators=250, subsample=0.666, reg_lambda=1, seed=1024, objective=binary:logistic, max_depth=4 - 2.1min\n",
      "[CV] learning_rate=0.01, n_estimators=500, subsample=0.666, reg_lambda=0.1, seed=1024, objective=binary:logistic, max_depth=4 \n",
      "[CV]  learning_rate=0.01, n_estimators=500, subsample=0.666, reg_lambda=0.1, seed=1024, objective=binary:logistic, max_depth=4 - 4.0min\n",
      "[CV] learning_rate=0.01, n_estimators=500, subsample=0.666, reg_lambda=0.1, seed=1024, objective=binary:logistic, max_depth=4 \n",
      "[CV]  learning_rate=0.01, n_estimators=500, subsample=0.666, reg_lambda=0.1, seed=1024, objective=binary:logistic, max_depth=4 - 4.0min\n",
      "[CV] learning_rate=0.01, n_estimators=500, subsample=0.666, reg_lambda=1, seed=1024, objective=binary:logistic, max_depth=4 \n",
      "[CV]  learning_rate=0.01, n_estimators=500, subsample=0.666, reg_lambda=1, seed=1024, objective=binary:logistic, max_depth=4 - 4.0min\n",
      "[CV] learning_rate=0.01, n_estimators=500, subsample=0.666, reg_lambda=1, seed=1024, objective=binary:logistic, max_depth=4 \n",
      "[CV]  learning_rate=0.01, n_estimators=500, subsample=0.666, reg_lambda=1, seed=1024, objective=binary:logistic, max_depth=4 - 4.0min\n",
      "[CV] learning_rate=0.01, n_estimators=250, subsample=0.666, reg_lambda=0.1, seed=1024, objective=binary:logistic, max_depth=8 \n",
      "[CV]  learning_rate=0.01, n_estimators=250, subsample=0.666, reg_lambda=0.1, seed=1024, objective=binary:logistic, max_depth=8 - 4.0min\n",
      "[CV] learning_rate=0.01, n_estimators=250, subsample=0.666, reg_lambda=0.1, seed=1024, objective=binary:logistic, max_depth=8 \n",
      "[CV]  learning_rate=0.01, n_estimators=250, subsample=0.666, reg_lambda=0.1, seed=1024, objective=binary:logistic, max_depth=8 - 4.0min\n",
      "[CV] learning_rate=0.01, n_estimators=250, subsample=0.666, reg_lambda=1, seed=1024, objective=binary:logistic, max_depth=8 \n",
      "[CV]  learning_rate=0.01, n_estimators=250, subsample=0.666, reg_lambda=1, seed=1024, objective=binary:logistic, max_depth=8 - 4.0min\n",
      "[CV] learning_rate=0.01, n_estimators=250, subsample=0.666, reg_lambda=1, seed=1024, objective=binary:logistic, max_depth=8 \n",
      "[CV]  learning_rate=0.01, n_estimators=250, subsample=0.666, reg_lambda=1, seed=1024, objective=binary:logistic, max_depth=8 - 4.0min\n",
      "[CV] learning_rate=0.01, n_estimators=500, subsample=0.666, reg_lambda=0.1, seed=1024, objective=binary:logistic, max_depth=8 \n",
      "[CV]  learning_rate=0.01, n_estimators=500, subsample=0.666, reg_lambda=0.1, seed=1024, objective=binary:logistic, max_depth=8 - 7.9min\n",
      "[CV] learning_rate=0.01, n_estimators=500, subsample=0.666, reg_lambda=0.1, seed=1024, objective=binary:logistic, max_depth=8 \n",
      "[CV]  learning_rate=0.01, n_estimators=500, subsample=0.666, reg_lambda=0.1, seed=1024, objective=binary:logistic, max_depth=8 - 7.9min\n",
      "[CV] learning_rate=0.01, n_estimators=500, subsample=0.666, reg_lambda=1, seed=1024, objective=binary:logistic, max_depth=8 \n",
      "[CV]  learning_rate=0.01, n_estimators=500, subsample=0.666, reg_lambda=1, seed=1024, objective=binary:logistic, max_depth=8 - 7.9min\n",
      "[CV] learning_rate=0.01, n_estimators=500, subsample=0.666, reg_lambda=1, seed=1024, objective=binary:logistic, max_depth=8 \n",
      "[CV]  learning_rate=0.01, n_estimators=500, subsample=0.666, reg_lambda=1, seed=1024, objective=binary:logistic, max_depth=8 - 7.9min\n",
      "[CV] learning_rate=0.03, n_estimators=250, subsample=0.666, reg_lambda=0.1, seed=1024, objective=binary:logistic, max_depth=4 \n",
      "[CV]  learning_rate=0.03, n_estimators=250, subsample=0.666, reg_lambda=0.1, seed=1024, objective=binary:logistic, max_depth=4 - 2.0min\n",
      "[CV] learning_rate=0.03, n_estimators=250, subsample=0.666, reg_lambda=0.1, seed=1024, objective=binary:logistic, max_depth=4 \n",
      "[CV]  learning_rate=0.03, n_estimators=250, subsample=0.666, reg_lambda=0.1, seed=1024, objective=binary:logistic, max_depth=4 - 2.1min\n",
      "[CV] learning_rate=0.03, n_estimators=250, subsample=0.666, reg_lambda=1, seed=1024, objective=binary:logistic, max_depth=4 \n",
      "[CV]  learning_rate=0.03, n_estimators=250, subsample=0.666, reg_lambda=1, seed=1024, objective=binary:logistic, max_depth=4 - 2.0min\n",
      "[CV] learning_rate=0.03, n_estimators=250, subsample=0.666, reg_lambda=1, seed=1024, objective=binary:logistic, max_depth=4 \n",
      "[CV]  learning_rate=0.03, n_estimators=250, subsample=0.666, reg_lambda=1, seed=1024, objective=binary:logistic, max_depth=4 - 2.1min\n",
      "[CV] learning_rate=0.03, n_estimators=500, subsample=0.666, reg_lambda=0.1, seed=1024, objective=binary:logistic, max_depth=4 \n",
      "[CV]  learning_rate=0.03, n_estimators=500, subsample=0.666, reg_lambda=0.1, seed=1024, objective=binary:logistic, max_depth=4 - 4.0min\n",
      "[CV] learning_rate=0.03, n_estimators=500, subsample=0.666, reg_lambda=0.1, seed=1024, objective=binary:logistic, max_depth=4 \n",
      "[CV]  learning_rate=0.03, n_estimators=500, subsample=0.666, reg_lambda=0.1, seed=1024, objective=binary:logistic, max_depth=4 - 4.0min\n",
      "[CV] learning_rate=0.03, n_estimators=500, subsample=0.666, reg_lambda=1, seed=1024, objective=binary:logistic, max_depth=4 \n",
      "[CV]  learning_rate=0.03, n_estimators=500, subsample=0.666, reg_lambda=1, seed=1024, objective=binary:logistic, max_depth=4 - 3.9min\n",
      "[CV] learning_rate=0.03, n_estimators=500, subsample=0.666, reg_lambda=1, seed=1024, objective=binary:logistic, max_depth=4 \n",
      "[CV]  learning_rate=0.03, n_estimators=500, subsample=0.666, reg_lambda=1, seed=1024, objective=binary:logistic, max_depth=4 - 3.9min\n",
      "[CV] learning_rate=0.03, n_estimators=250, subsample=0.666, reg_lambda=0.1, seed=1024, objective=binary:logistic, max_depth=8 \n",
      "[CV]  learning_rate=0.03, n_estimators=250, subsample=0.666, reg_lambda=0.1, seed=1024, objective=binary:logistic, max_depth=8 - 4.0min\n",
      "[CV] learning_rate=0.03, n_estimators=250, subsample=0.666, reg_lambda=0.1, seed=1024, objective=binary:logistic, max_depth=8 \n",
      "[CV]  learning_rate=0.03, n_estimators=250, subsample=0.666, reg_lambda=0.1, seed=1024, objective=binary:logistic, max_depth=8 - 4.0min\n",
      "[CV] learning_rate=0.03, n_estimators=250, subsample=0.666, reg_lambda=1, seed=1024, objective=binary:logistic, max_depth=8 \n",
      "[CV]  learning_rate=0.03, n_estimators=250, subsample=0.666, reg_lambda=1, seed=1024, objective=binary:logistic, max_depth=8 - 3.9min\n",
      "[CV] learning_rate=0.03, n_estimators=250, subsample=0.666, reg_lambda=1, seed=1024, objective=binary:logistic, max_depth=8 \n",
      "[CV]  learning_rate=0.03, n_estimators=250, subsample=0.666, reg_lambda=1, seed=1024, objective=binary:logistic, max_depth=8 - 4.1min\n",
      "[CV] learning_rate=0.03, n_estimators=500, subsample=0.666, reg_lambda=0.1, seed=1024, objective=binary:logistic, max_depth=8 \n",
      "[CV]  learning_rate=0.03, n_estimators=500, subsample=0.666, reg_lambda=0.1, seed=1024, objective=binary:logistic, max_depth=8 - 8.0min\n",
      "[CV] learning_rate=0.03, n_estimators=500, subsample=0.666, reg_lambda=0.1, seed=1024, objective=binary:logistic, max_depth=8 \n",
      "[CV]  learning_rate=0.03, n_estimators=500, subsample=0.666, reg_lambda=0.1, seed=1024, objective=binary:logistic, max_depth=8 - 8.2min\n",
      "[CV] learning_rate=0.03, n_estimators=500, subsample=0.666, reg_lambda=1, seed=1024, objective=binary:logistic, max_depth=8 \n",
      "[CV]  learning_rate=0.03, n_estimators=500, subsample=0.666, reg_lambda=1, seed=1024, objective=binary:logistic, max_depth=8 - 7.9min\n",
      "[CV] learning_rate=0.03, n_estimators=500, subsample=0.666, reg_lambda=1, seed=1024, objective=binary:logistic, max_depth=8 \n",
      "[CV]  learning_rate=0.03, n_estimators=500, subsample=0.666, reg_lambda=1, seed=1024, objective=binary:logistic, max_depth=8 - 7.8min\n"
     ]
    },
    {
     "name": "stderr",
     "output_type": "stream",
     "text": [
      "[Parallel(n_jobs=1)]: Done  32 out of  32 | elapsed: 143.7min finished\n"
     ]
    },
    {
     "data": {
      "text/plain": [
       "GridSearchCV(cv=StratifiedShuffleSplit(labels=[ 0.  0. ...,  0.  0.], n_iter=2, test_size=0.1, random_state=None),\n",
       "       error_score='raise',\n",
       "       estimator=XGBClassifier(base_score=0.5, colsample_bylevel=1, colsample_bytree=1,\n",
       "       gamma=0, learning_rate=0.1, max_delta_step=0, max_depth=3,\n",
       "       min_child_weight=1, missing=None, n_estimators=100, nthread=-1,\n",
       "       objective='binary:logistic', reg_alpha=0, reg_lambda=1,\n",
       "       scale_pos_weight=1, seed=0, silent=True, subsample=1),\n",
       "       fit_params={}, iid=True, n_jobs=1,\n",
       "       param_grid={'learning_rate': [0.01, 0.03], 'n_estimators': [250, 500], 'subsample': [0.666], 'reg_lambda': [0.1, 1], 'seed': [1024], 'objective': ['binary:logistic'], 'max_depth': [4, 8]},\n",
       "       pre_dispatch='2*n_jobs', refit=True, scoring='roc_auc', verbose=2)"
      ]
     },
     "execution_count": 248,
     "metadata": {},
     "output_type": "execute_result"
    }
   ],
   "source": [
    "# EXECUTE GRIDSEARCH\n",
    "gsearch.fit(x, y)"
   ]
  },
  {
   "cell_type": "code",
   "execution_count": null,
   "metadata": {
    "collapsed": false
   },
   "outputs": [],
   "source": [
    "# EXTRACT BEST FEATURES TO DEFINE/FIT OPTIMAL XGBLOGREG\n",
    "print \"BEST PARAMS:\" , gsearch.best_params_\n",
    "xgb_best = xbg.XGBClassifier()\n",
    "xgb_best.set_params(**gsearch.best_params_)\n",
    "xgb_best.fit(X_train, y_train)"
   ]
  },
  {
   "cell_type": "code",
   "execution_count": 41,
   "metadata": {
    "collapsed": true
   },
   "outputs": [],
   "source": [
    "# DE-SERIALIZE PICKLED XGB LOGISTIC CLASSIFIER\n",
    "with open('/Users/marenaisabelle/CODE/GADSI/Capstone/OptimalXGB') as fmod:\n",
    "    xgb_best = pickle.load(fmod)"
   ]
  },
  {
   "cell_type": "code",
   "execution_count": 46,
   "metadata": {
    "collapsed": false
   },
   "outputs": [
    {
     "name": "stdout",
     "output_type": "stream",
     "text": [
      "TRAIN SIZE: 2617\n",
      "NUMBER OF TRUE POSITIVES IN TEST:  57\n",
      "ACCURACY: 0.9793656859\n",
      "F1: 0.129032258065\n",
      "RECALL: 0.0701754385965\n",
      "PRECISION: 0.445213817884\n",
      "CONFUSION MATRIX: [[2559    1]\n",
      " [  53    4]]\n"
     ]
    },
    {
     "data": {
      "image/png": "[encoded data removed]",
      "text/plain": [
       "<matplotlib.figure.Figure at 0x103eec8d0>"
      ]
     },
     "metadata": {},
     "output_type": "display_data"
    },
    {
     "name": "stdout",
     "output_type": "stream",
     "text": [
      "THRESHOLD: 0.78542358, , 0.699332\n",
      "FALSE POSITIVE RATES [  0.00000000e+00   0.00000000e+00   3.90625000e-04   3.90625000e-04\n",
      "   1.17187500e-03   1.17187500e-03   1.56250000e-03   1.56250000e-03\n",
      "   1.95312500e-03   1.95312500e-03   2.34375000e-03   2.34375000e-03\n",
      "   2.73437500e-03   2.73437500e-03   3.51562500e-03   3.51562500e-03\n",
      "   4.29687500e-03   5.07812500e-03   5.07812500e-03   5.46875000e-03\n",
      "   5.46875000e-03   6.64062500e-03   6.64062500e-03   9.76562500e-03\n",
      "   9.76562500e-03   1.01562500e-02   1.01562500e-02   1.44531250e-02\n",
      "   1.44531250e-02   2.14843750e-02   2.14843750e-02   2.65625000e-02\n",
      "   2.73437500e-02   2.77343750e-02   2.77343750e-02   2.81250000e-02\n",
      "   2.89062500e-02   2.96875000e-02   2.96875000e-02   3.24218750e-02\n",
      "   3.24218750e-02   3.47656250e-02   3.51562500e-02   4.06250000e-02\n",
      "   4.06250000e-02   4.68750000e-02   4.76562500e-02   5.74218750e-02\n",
      "   5.74218750e-02   5.82031250e-02   6.28906250e-02   6.36718750e-02\n",
      "   7.57812500e-02   7.57812500e-02   7.73437500e-02   7.81250000e-02\n",
      "   8.59375000e-02   8.67187500e-02   8.78906250e-02   8.86718750e-02\n",
      "   9.06250000e-02   9.17968750e-02   1.00390625e-01   1.00390625e-01\n",
      "   1.16015625e-01   1.16796875e-01   1.17968750e-01   1.17968750e-01\n",
      "   1.20312500e-01   1.20312500e-01   1.23046875e-01   1.24218750e-01\n",
      "   1.26562500e-01   1.26562500e-01   1.31640625e-01   1.32421875e-01\n",
      "   1.34765625e-01   1.35546875e-01   1.69921875e-01   1.70703125e-01\n",
      "   1.76953125e-01   1.76953125e-01   1.83203125e-01   1.83203125e-01\n",
      "   1.87500000e-01   1.87890625e-01   2.02734375e-01   2.03515625e-01\n",
      "   2.08203125e-01   2.08984375e-01   2.11328125e-01   2.12109375e-01\n",
      "   2.13281250e-01   2.13281250e-01   2.14843750e-01   2.14843750e-01\n",
      "   2.20312500e-01   2.20312500e-01   2.42968750e-01   2.43750000e-01\n",
      "   2.64843750e-01   2.65625000e-01   2.69531250e-01   2.70312500e-01\n",
      "   2.74609375e-01   2.75390625e-01   2.82421875e-01   2.83203125e-01\n",
      "   2.86718750e-01   2.86718750e-01   3.04296875e-01   3.05078125e-01\n",
      "   3.08593750e-01   3.09375000e-01   3.25781250e-01   3.26562500e-01\n",
      "   3.31250000e-01   3.32421875e-01   3.35937500e-01   3.36718750e-01\n",
      "   3.47656250e-01   3.48437500e-01   3.67187500e-01   3.67968750e-01\n",
      "   3.76953125e-01   3.77734375e-01   3.80859375e-01   3.81640625e-01\n",
      "   4.00781250e-01   4.01562500e-01   4.03515625e-01   4.04296875e-01\n",
      "   4.26171875e-01   4.27343750e-01   4.51562500e-01   4.52343750e-01\n",
      "   4.57031250e-01   4.57812500e-01   4.80468750e-01   4.80468750e-01\n",
      "   5.02343750e-01   5.03125000e-01   5.26171875e-01   5.26953125e-01\n",
      "   5.27734375e-01   5.29296875e-01   5.29687500e-01   5.30468750e-01\n",
      "   5.43750000e-01   5.44531250e-01   5.73437500e-01   5.74218750e-01\n",
      "   5.77734375e-01   5.78515625e-01   5.83984375e-01   5.84765625e-01\n",
      "   5.88671875e-01   5.90234375e-01   5.90625000e-01   5.91406250e-01\n",
      "   5.99609375e-01   6.00390625e-01   6.03125000e-01   6.03906250e-01\n",
      "   6.12109375e-01   6.13671875e-01   6.17968750e-01   6.17968750e-01\n",
      "   6.19921875e-01   6.19921875e-01   6.24218750e-01   6.25000000e-01\n",
      "   6.33984375e-01   6.34765625e-01   6.40625000e-01   6.40625000e-01\n",
      "   6.42187500e-01   6.42968750e-01   6.46093750e-01   6.46875000e-01\n",
      "   6.49218750e-01   6.50000000e-01   6.53906250e-01   6.54687500e-01\n",
      "   6.55468750e-01   6.56250000e-01   6.60937500e-01   6.60937500e-01\n",
      "   6.63671875e-01   6.65234375e-01   6.84765625e-01   6.85546875e-01\n",
      "   6.98828125e-01   7.03515625e-01   7.09375000e-01   7.10156250e-01\n",
      "   7.17578125e-01   7.18359375e-01   7.19921875e-01   7.20703125e-01\n",
      "   7.25000000e-01   7.25781250e-01   7.30859375e-01   7.30859375e-01\n",
      "   7.37109375e-01   7.37890625e-01   7.47265625e-01   7.48046875e-01\n",
      "   7.55078125e-01   7.57421875e-01   7.63281250e-01   7.64062500e-01\n",
      "   7.66015625e-01   7.66796875e-01   7.73046875e-01   7.73828125e-01\n",
      "   7.74218750e-01   7.75000000e-01   7.75781250e-01   7.76562500e-01\n",
      "   7.78515625e-01   7.79296875e-01   7.85546875e-01   7.86328125e-01\n",
      "   7.88281250e-01   7.89062500e-01   7.98046875e-01   7.98828125e-01\n",
      "   8.01171875e-01   8.05078125e-01   8.05859375e-01   8.19921875e-01\n",
      "   8.20703125e-01   8.21484375e-01   8.22265625e-01   8.23828125e-01\n",
      "   8.24609375e-01   8.25000000e-01   8.25781250e-01   8.28515625e-01\n",
      "   8.30078125e-01   8.35937500e-01   8.36718750e-01   8.48828125e-01\n",
      "   8.49609375e-01   8.50390625e-01   8.51953125e-01   8.55468750e-01\n",
      "   8.57031250e-01   8.57812500e-01   8.58593750e-01   8.60156250e-01\n",
      "   8.60937500e-01   8.63671875e-01   8.64453125e-01   8.71875000e-01\n",
      "   8.72656250e-01   8.73046875e-01   8.73828125e-01   8.75390625e-01\n",
      "   8.75390625e-01   8.76171875e-01   8.76953125e-01   8.78125000e-01\n",
      "   8.78906250e-01   8.80468750e-01   8.81250000e-01   8.87890625e-01\n",
      "   8.88671875e-01   8.89453125e-01   8.89453125e-01   9.02343750e-01\n",
      "   9.03125000e-01   9.05078125e-01   9.05859375e-01   9.07031250e-01\n",
      "   9.07812500e-01   9.10156250e-01   9.10937500e-01   9.12109375e-01\n",
      "   9.13281250e-01   9.19140625e-01   9.19921875e-01   9.20312500e-01\n",
      "   9.21093750e-01   9.23437500e-01   9.24218750e-01   9.26171875e-01\n",
      "   9.26953125e-01   9.31250000e-01   9.32812500e-01   9.35937500e-01\n",
      "   9.37109375e-01   9.40625000e-01   9.44921875e-01   9.44921875e-01\n",
      "   9.57812500e-01   9.58593750e-01   9.58984375e-01   9.59765625e-01\n",
      "   9.65625000e-01   9.66796875e-01   9.67968750e-01   9.68750000e-01\n",
      "   9.69140625e-01   9.70312500e-01   9.71484375e-01   9.72265625e-01\n",
      "   9.77734375e-01   9.78906250e-01   9.80468750e-01   9.81250000e-01\n",
      "   9.88281250e-01   9.89062500e-01   9.90234375e-01   9.91015625e-01\n",
      "   9.93359375e-01   9.94921875e-01   1.00000000e+00]\n"
     ]
    }
   ],
   "source": [
    "# PLOT ROC\n",
    "from sklearn.metrics import roc_curve, auc, f1_score, accuracy_score, confusion_matrix, recall_score, average_precision_score\n",
    "import matplotlib.pyplot as plt\n",
    "\n",
    "X_train, X_test, y_train, y_test = train_test_split(x, y, test_size=0.25)\n",
    "xgb_best.fit(X_train, y_train)\n",
    "FPR = dict()\n",
    "TPR = dict()\n",
    "ROC_AUC = dict()\n",
    "\n",
    "ypred = xgb_best.predict(X_test).tolist()\n",
    "predprob = xgb_best.predict_proba(X_test)\n",
    "accuracy = accuracy_score(y_test, ypred)\n",
    "f1 = f1_score(y_test, ypred)\n",
    "cmat = confusion_matrix(y_test, ypred)\n",
    "rec = recall_score(y_test, ypred)\n",
    "prec = average_precision_score(y_test, ypred)\n",
    "# Find the area under the curve for \"Active Class\"\n",
    "FPR[1], TPR[1], thresholds = roc_curve(y_test, xgb_best.predict_proba(X_test)[:,1])\n",
    "ROC_AUC[1] = auc(FPR[1], TPR[1])\n",
    "\n",
    "# Print major stats\n",
    "print \"TRAIN SIZE:\" , len(y_test)\n",
    "print \"NUMBER OF TRUE POSITIVES IN TEST: \" , len([x for x in y_test if x != 0])\n",
    "print \"ACCURACY:\", accuracy\n",
    "print \"F1:\" , f1\n",
    "print \"RECALL:\", rec\n",
    "print \"PRECISION:\" , prec\n",
    "print \"CONFUSION MATRIX:\" , cmat\n",
    "\n",
    "# Plot of a ROC curve for \"Active Class\"\n",
    "plt.figure(figsize=[11,9])\n",
    "plt.plot(FPR[1], TPR[1], label='ROC curve (area = %0.2f)' % ROC_AUC[1], linewidth=4)\n",
    "plt.plot([0, 1], [0, 1], 'k--', linewidth=4)\n",
    "plt.xlim([0.0, 1.0])\n",
    "plt.ylim([0.0, 1.05])\n",
    "plt.xlabel('False Positive Rate', fontsize=18)\n",
    "plt.ylabel('True Positive Rate', fontsize=18)\n",
    "plt.title('ROC for Antibiotic Discovery', fontsize=18)\n",
    "plt.legend(loc=\"lower right\")\n",
    "plt.show()\n",
    "\n",
    "print \"THRESHOLD: %.8f, , %f\" % (thresholds[0], thresholds[1])\n",
    "print \"FALSE POSITIVE RATES\" , FPR[1]"
   ]
  },
  {
   "cell_type": "code",
   "execution_count": null,
   "metadata": {
    "collapsed": true
   },
   "outputs": [],
   "source": []
  }
 ],
 "metadata": {
  "anaconda-cloud": {},
  "kernelspec": {
   "display_name": "Python [conda env:dsi]",
   "language": "python",
   "name": "conda-env-dsi-py"
  },
  "language_info": {
   "codemirror_mode": {
    "name": "ipython",
    "version": 2
   },
   "file_extension": ".py",
   "mimetype": "text/x-python",
   "name": "python",
   "nbconvert_exporter": "python",
   "pygments_lexer": "ipython2",
   "version": "2.7.12"
  }
 },
 "nbformat": 4,
 "nbformat_minor": 1
}
