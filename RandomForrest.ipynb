{
 "cells": [
  {
   "cell_type": "code",
   "execution_count": 220,
   "metadata": {
    "collapsed": false
   },
   "outputs": [],
   "source": [
    "import pandas as pd\n",
    "import numpy as np\n",
    "from sklearn.model_selection import cross_val_score\n",
    "from sklearn.grid_search import GridSearchCV\n",
    "from sklearn.ensemble import RandomForestClassifier\n",
    "from sklearn.pipeline import Pipeline\n",
    "from sklearn.linear_model import LogisticRegression\n",
    "from sklearn.cross_validation import train_test_split\n",
    "from sklearn.metrics import confusion_matrix\n",
    "import matplotlib as plt\n",
    "\n",
    "%matplotlib inline"
   ]
  },
  {
   "cell_type": "code",
   "execution_count": 223,
   "metadata": {
    "collapsed": false
   },
   "outputs": [
    {
     "name": "stdout",
     "output_type": "stream",
     "text": [
      "<class 'pandas.core.frame.DataFrame'>\n",
      "RangeIndex: 10466 entries, 0 to 10465\n",
      "Data columns (total 3 columns):\n",
      "PC_CID      10466 non-null float64\n",
      "Activity    10466 non-null float64\n",
      "Smiles      10466 non-null object\n",
      "dtypes: float64(2), object(1)\n",
      "memory usage: 245.4+ KB\n"
     ]
    }
   ],
   "source": [
    "full_df.info()"
   ]
  },
  {
   "cell_type": "code",
   "execution_count": 222,
   "metadata": {
    "collapsed": true
   },
   "outputs": [],
   "source": [
    "full_df = pd.read_csv('/Users/marenaisabelle/CODE/GADSI/fulldf')"
   ]
  },
  {
   "cell_type": "code",
   "execution_count": 205,
   "metadata": {
    "collapsed": false
   },
   "outputs": [],
   "source": [
    "x = [x.strip() for x in full_df.Smiles.values]\n",
    "y = full_df.Activity.values"
   ]
  },
  {
   "cell_type": "code",
   "execution_count": 215,
   "metadata": {
    "collapsed": false
   },
   "outputs": [
    {
     "name": "stdout",
     "output_type": "stream",
     "text": [
      "(241, 4)\n"
     ]
    }
   ],
   "source": [
    "active_df = full_df[full_df['Activity'] == 1]\n",
    "print active_df.shape"
   ]
  },
  {
   "cell_type": "code",
   "execution_count": 207,
   "metadata": {
    "collapsed": false
   },
   "outputs": [],
   "source": [
    "from rdkit import Chem\n",
    "from rdkit import DataStructs\n",
    "from rdkit.Chem import AllChem\n",
    "\n",
    "mols, np_fps = [], []\n",
    "\n",
    "# generate fmolecules\n",
    "for m in x:\n",
    "    mol = Chem.MolFromSmiles(m)\n",
    "    mols.append(mol)\n",
    "    fp = AllChem.GetMorganFingerprintAsBitVect(mol, 2)\n",
    "    arr = np.zeros((1,))\n",
    "    DataStructs.ConvertToNumpyArray(fp, arr)\n",
    "    np_fps.append(arr)"
   ]
  },
  {
   "cell_type": "code",
   "execution_count": 211,
   "metadata": {
    "collapsed": false
   },
   "outputs": [
    {
     "data": {
      "text/plain": [
       "10466"
      ]
     },
     "execution_count": 211,
     "metadata": {},
     "output_type": "execute_result"
    }
   ],
   "source": [
    "len(np_fps)"
   ]
  },
  {
   "cell_type": "code",
   "execution_count": 239,
   "metadata": {
    "collapsed": false
   },
   "outputs": [
    {
     "name": "stdout",
     "output_type": "stream",
     "text": [
      "0.97391627156\n",
      "[]\n"
     ]
    }
   ],
   "source": [
    "rf = RandomForestClassifier(n_estimators=100, criterion='gini', max_features=100)\n",
    "scores = cross_val_score(rf, np_fps, y, cv=10)\n",
    "print np.mean(scores)\n",
    "print rf.estimators_"
   ]
  },
  {
   "cell_type": "code",
   "execution_count": 209,
   "metadata": {
    "collapsed": false,
    "scrolled": true
   },
   "outputs": [
    {
     "name": "stderr",
     "output_type": "stream",
     "text": [
      "/Users/marenaisabelle/anaconda/envs/my-rdkit-env/lib/python2.7/site-packages/sklearn/utils/deprecation.py:70: DeprecationWarning: Function transform is deprecated; Support to use estimators as feature selectors will be removed in version 0.19. Use SelectFromModel instead.\n",
      "  warnings.warn(msg, category=DeprecationWarning)\n"
     ]
    },
    {
     "name": "stdout",
     "output_type": "stream",
     "text": [
      "[[4094    4]\n",
      " [  77   12]]\n"
     ]
    }
   ],
   "source": [
    "rf = RandomForestClassifier(n_estimators=10, criterion='gini', max_features=100)\n",
    "X_train, X_test, y_train, y_test = train_test_split(np_fps, y, test_size = 0.4)\n",
    "rf.fit_transform(X_train, y_train)\n",
    "\n",
    "Y_pred = rf.predict(X_test)\n",
    "print confusion_matrix(y_test, Y_pred)"
   ]
  },
  {
   "cell_type": "code",
   "execution_count": 237,
   "metadata": {
    "collapsed": false
   },
   "outputs": [
    {
     "name": "stdout",
     "output_type": "stream",
     "text": [
      "count    10466.000000\n",
      "mean         0.175199\n",
      "std          0.009646\n",
      "min          0.085743\n",
      "25%          0.169673\n",
      "50%          0.176039\n",
      "75%          0.181855\n",
      "max          0.198278\n",
      "dtype: float64\n",
      "327\n"
     ]
    }
   ],
   "source": [
    "from sklearn.ensemble import IsolationForest\n",
    "\n",
    "isof = IsolationForest()\n",
    "isof.fit(np_fps)\n",
    "ifdf = isof.decision_function(np_fps)\n",
    "print pd.Series(ifdf).describe()\n",
    "\n",
    "two_std = np.mean(ifdf) - 2*np.std(ifdf)\n",
    "anomalies = [x for x in ifdf if x<two_std]\n",
    "print len(anomalies)"
   ]
  },
  {
   "cell_type": "code",
   "execution_count": 236,
   "metadata": {
    "collapsed": false
   },
   "outputs": [
    {
     "name": "stdout",
     "output_type": "stream",
     "text": [
      "Size of train set : 6279\n",
      "Active Compounds in train: 143\n",
      "Number of Anomalies: 298\n"
     ]
    }
   ],
   "source": [
    "X_train, X_test, y_train, y_test = train_test_split(np_fps, y, test_size = 0.4)\n",
    "ytrain_act = y_train[y_train ==1]\n",
    "print \"Size of train set : %d\" % (len(y_train))\n",
    "print \"Active Compounds in train: %d\" % (len(ytrain_act))\n",
    "\n",
    "isof = IsolationForest()\n",
    "isof.fit(X_train, y_train)\n",
    "tst = isof.decision_function(X_test)\n",
    "pd.Series(tst).describe()\n",
    "print \"Number of Anomalies: %d\" % (len(anomalies))"
   ]
  },
  {
   "cell_type": "code",
   "execution_count": null,
   "metadata": {
    "collapsed": true
   },
   "outputs": [],
   "source": []
  }
 ],
 "metadata": {
  "anaconda-cloud": {},
  "kernelspec": {
   "display_name": "Python [conda env:my-rdkit-env]",
   "language": "python",
   "name": "conda-env-my-rdkit-env-py"
  },
  "language_info": {
   "codemirror_mode": {
    "name": "ipython",
    "version": 2
   },
   "file_extension": ".py",
   "mimetype": "text/x-python",
   "name": "python",
   "nbconvert_exporter": "python",
   "pygments_lexer": "ipython2",
   "version": "2.7.12"
  }
 },
 "nbformat": 4,
 "nbformat_minor": 1
}
