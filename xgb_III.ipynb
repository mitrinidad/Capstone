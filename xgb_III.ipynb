{
 "cells": [
  {
   "cell_type": "code",
   "execution_count": 1,
   "metadata": {
    "collapsed": false
   },
   "outputs": [
    {
     "name": "stderr",
     "output_type": "stream",
     "text": [
      "/Users/marenaisabelle/anaconda/envs/dsi/lib/python2.7/site-packages/matplotlib/font_manager.py:273: UserWarning: Matplotlib is building the font cache using fc-list. This may take a moment.\n",
      "  warnings.warn('Matplotlib is building the font cache using fc-list. This may take a moment.')\n"
     ]
    }
   ],
   "source": [
    "import numpy as np\n",
    "import pandas as pd\n",
    "import joblib\n",
    "import xgboost as xgb \n",
    "import pickle\n",
    "from sklearn.grid_search import GridSearchCV\n",
    "from sklearn.cross_validation import StratifiedShuffleSplit, train_test_split\n",
    "%matplotlib inline"
   ]
  },
  {
   "cell_type": "code",
   "execution_count": 4,
   "metadata": {
    "collapsed": false
   },
   "outputs": [],
   "source": [
    "# LOAD DATA\n",
    "chem_lib = pd.read_csv('/Users/marenaisabelle/CODE/GADSI/fulldf')\n",
    "with open('/Users/marenaisabelle/CODE/GADSI/Capstone/pickle_prints','rb') as f: # Load pickled fingerprints by de-serialize\n",
    "    fps = pickle.load(f)"
   ]
  },
  {
   "cell_type": "code",
   "execution_count": 5,
   "metadata": {
    "collapsed": false
   },
   "outputs": [],
   "source": [
    "# DEFINE PREDICTORS(X= Fingerprints) AND TARGET(Y= Activity)\n",
    "x = np.asmatrix(fps)\n",
    "y = chem_lib.Activity.values"
   ]
  },
  {
   "cell_type": "code",
   "execution_count": 6,
   "metadata": {
    "collapsed": false
   },
   "outputs": [],
   "source": [
    "# DEFINE CV SCHEME\n",
    "sss = StratifiedShuffleSplit(y, n_iter=2) # Stratified-Shuffle-Splitto ensure train data preserves class imbalance in cv"
   ]
  },
  {
   "cell_type": "code",
   "execution_count": 7,
   "metadata": {
    "collapsed": false
   },
   "outputs": [],
   "source": [
    "# DEFINE PARAMS FOR GRIDSEARCH\n",
    "params = {\n",
    "    'objective' : ['binary:logistic'],\n",
    "    'max_depth' : [4, 8],\n",
    "    'n_estimators': [250, 500],\n",
    "    'learning_rate': [0.01, 0.03],\n",
    "    'subsample': [0.666], # Vary train/test to observe bias/variance tradeoff and class imbalance effects\n",
    "    'reg_lambda': [0.1, 1], # L2/Ridge Regularization for increased stringency\n",
    "    'seed' : [1024]\n",
    "    \n",
    "}"
   ]
  },
  {
   "cell_type": "code",
   "execution_count": 246,
   "metadata": {
    "collapsed": false
   },
   "outputs": [],
   "source": [
    "# DEFINE GRIDSEARCH\n",
    "gsearch = GridSearchCV(xgb_c, param_grid=params, verbose=2, cv=sss, scoring='roc_auc')\n",
    "# DEFINE YOUR ESTIMATOR\n",
    "xgb_c = xgb.XGBClassifier()"
   ]
  },
  {
   "cell_type": "code",
   "execution_count": 248,
   "metadata": {
    "collapsed": false,
    "scrolled": true
   },
   "outputs": [
    {
     "name": "stdout",
     "output_type": "stream",
     "text": [
      "Fitting 2 folds for each of 16 candidates, totalling 32 fits\n",
      "[CV] learning_rate=0.01, n_estimators=250, subsample=0.666, reg_lambda=0.1, seed=1024, objective=binary:logistic, max_depth=4 \n",
      "[CV]  learning_rate=0.01, n_estimators=250, subsample=0.666, reg_lambda=0.1, seed=1024, objective=binary:logistic, max_depth=4 - 2.0min\n",
      "[CV] learning_rate=0.01, n_estimators=250, subsample=0.666, reg_lambda=0.1, seed=1024, objective=binary:logistic, max_depth=4 \n",
      "[CV]  learning_rate=0.01, n_estimators=250, subsample=0.666, reg_lambda=0.1, seed=1024, objective=binary:logistic, max_depth=4 - 2.0min\n",
      "[CV] learning_rate=0.01, n_estimators=250, subsample=0.666, reg_lambda=1, seed=1024, objective=binary:logistic, max_depth=4 \n",
      "[CV]  learning_rate=0.01, n_estimators=250, subsample=0.666, reg_lambda=1, seed=1024, objective=binary:logistic, max_depth=4 - 2.0min\n",
      "[CV] learning_rate=0.01, n_estimators=250, subsample=0.666, reg_lambda=1, seed=1024, objective=binary:logistic, max_depth=4 \n",
      "[CV]  learning_rate=0.01, n_estimators=250, subsample=0.666, reg_lambda=1, seed=1024, objective=binary:logistic, max_depth=4 - 2.1min\n",
      "[CV] learning_rate=0.01, n_estimators=500, subsample=0.666, reg_lambda=0.1, seed=1024, objective=binary:logistic, max_depth=4 \n",
      "[CV]  learning_rate=0.01, n_estimators=500, subsample=0.666, reg_lambda=0.1, seed=1024, objective=binary:logistic, max_depth=4 - 4.0min\n",
      "[CV] learning_rate=0.01, n_estimators=500, subsample=0.666, reg_lambda=0.1, seed=1024, objective=binary:logistic, max_depth=4 \n",
      "[CV]  learning_rate=0.01, n_estimators=500, subsample=0.666, reg_lambda=0.1, seed=1024, objective=binary:logistic, max_depth=4 - 4.0min\n",
      "[CV] learning_rate=0.01, n_estimators=500, subsample=0.666, reg_lambda=1, seed=1024, objective=binary:logistic, max_depth=4 \n",
      "[CV]  learning_rate=0.01, n_estimators=500, subsample=0.666, reg_lambda=1, seed=1024, objective=binary:logistic, max_depth=4 - 4.0min\n",
      "[CV] learning_rate=0.01, n_estimators=500, subsample=0.666, reg_lambda=1, seed=1024, objective=binary:logistic, max_depth=4 \n",
      "[CV]  learning_rate=0.01, n_estimators=500, subsample=0.666, reg_lambda=1, seed=1024, objective=binary:logistic, max_depth=4 - 4.0min\n",
      "[CV] learning_rate=0.01, n_estimators=250, subsample=0.666, reg_lambda=0.1, seed=1024, objective=binary:logistic, max_depth=8 \n",
      "[CV]  learning_rate=0.01, n_estimators=250, subsample=0.666, reg_lambda=0.1, seed=1024, objective=binary:logistic, max_depth=8 - 4.0min\n",
      "[CV] learning_rate=0.01, n_estimators=250, subsample=0.666, reg_lambda=0.1, seed=1024, objective=binary:logistic, max_depth=8 \n",
      "[CV]  learning_rate=0.01, n_estimators=250, subsample=0.666, reg_lambda=0.1, seed=1024, objective=binary:logistic, max_depth=8 - 4.0min\n",
      "[CV] learning_rate=0.01, n_estimators=250, subsample=0.666, reg_lambda=1, seed=1024, objective=binary:logistic, max_depth=8 \n",
      "[CV]  learning_rate=0.01, n_estimators=250, subsample=0.666, reg_lambda=1, seed=1024, objective=binary:logistic, max_depth=8 - 4.0min\n",
      "[CV] learning_rate=0.01, n_estimators=250, subsample=0.666, reg_lambda=1, seed=1024, objective=binary:logistic, max_depth=8 \n",
      "[CV]  learning_rate=0.01, n_estimators=250, subsample=0.666, reg_lambda=1, seed=1024, objective=binary:logistic, max_depth=8 - 4.0min\n",
      "[CV] learning_rate=0.01, n_estimators=500, subsample=0.666, reg_lambda=0.1, seed=1024, objective=binary:logistic, max_depth=8 \n",
      "[CV]  learning_rate=0.01, n_estimators=500, subsample=0.666, reg_lambda=0.1, seed=1024, objective=binary:logistic, max_depth=8 - 7.9min\n",
      "[CV] learning_rate=0.01, n_estimators=500, subsample=0.666, reg_lambda=0.1, seed=1024, objective=binary:logistic, max_depth=8 \n",
      "[CV]  learning_rate=0.01, n_estimators=500, subsample=0.666, reg_lambda=0.1, seed=1024, objective=binary:logistic, max_depth=8 - 7.9min\n",
      "[CV] learning_rate=0.01, n_estimators=500, subsample=0.666, reg_lambda=1, seed=1024, objective=binary:logistic, max_depth=8 \n",
      "[CV]  learning_rate=0.01, n_estimators=500, subsample=0.666, reg_lambda=1, seed=1024, objective=binary:logistic, max_depth=8 - 7.9min\n",
      "[CV] learning_rate=0.01, n_estimators=500, subsample=0.666, reg_lambda=1, seed=1024, objective=binary:logistic, max_depth=8 \n",
      "[CV]  learning_rate=0.01, n_estimators=500, subsample=0.666, reg_lambda=1, seed=1024, objective=binary:logistic, max_depth=8 - 7.9min\n",
      "[CV] learning_rate=0.03, n_estimators=250, subsample=0.666, reg_lambda=0.1, seed=1024, objective=binary:logistic, max_depth=4 \n",
      "[CV]  learning_rate=0.03, n_estimators=250, subsample=0.666, reg_lambda=0.1, seed=1024, objective=binary:logistic, max_depth=4 - 2.0min\n",
      "[CV] learning_rate=0.03, n_estimators=250, subsample=0.666, reg_lambda=0.1, seed=1024, objective=binary:logistic, max_depth=4 \n",
      "[CV]  learning_rate=0.03, n_estimators=250, subsample=0.666, reg_lambda=0.1, seed=1024, objective=binary:logistic, max_depth=4 - 2.1min\n",
      "[CV] learning_rate=0.03, n_estimators=250, subsample=0.666, reg_lambda=1, seed=1024, objective=binary:logistic, max_depth=4 \n",
      "[CV]  learning_rate=0.03, n_estimators=250, subsample=0.666, reg_lambda=1, seed=1024, objective=binary:logistic, max_depth=4 - 2.0min\n",
      "[CV] learning_rate=0.03, n_estimators=250, subsample=0.666, reg_lambda=1, seed=1024, objective=binary:logistic, max_depth=4 \n",
      "[CV]  learning_rate=0.03, n_estimators=250, subsample=0.666, reg_lambda=1, seed=1024, objective=binary:logistic, max_depth=4 - 2.1min\n",
      "[CV] learning_rate=0.03, n_estimators=500, subsample=0.666, reg_lambda=0.1, seed=1024, objective=binary:logistic, max_depth=4 \n",
      "[CV]  learning_rate=0.03, n_estimators=500, subsample=0.666, reg_lambda=0.1, seed=1024, objective=binary:logistic, max_depth=4 - 4.0min\n",
      "[CV] learning_rate=0.03, n_estimators=500, subsample=0.666, reg_lambda=0.1, seed=1024, objective=binary:logistic, max_depth=4 \n",
      "[CV]  learning_rate=0.03, n_estimators=500, subsample=0.666, reg_lambda=0.1, seed=1024, objective=binary:logistic, max_depth=4 - 4.0min\n",
      "[CV] learning_rate=0.03, n_estimators=500, subsample=0.666, reg_lambda=1, seed=1024, objective=binary:logistic, max_depth=4 \n",
      "[CV]  learning_rate=0.03, n_estimators=500, subsample=0.666, reg_lambda=1, seed=1024, objective=binary:logistic, max_depth=4 - 3.9min\n",
      "[CV] learning_rate=0.03, n_estimators=500, subsample=0.666, reg_lambda=1, seed=1024, objective=binary:logistic, max_depth=4 \n",
      "[CV]  learning_rate=0.03, n_estimators=500, subsample=0.666, reg_lambda=1, seed=1024, objective=binary:logistic, max_depth=4 - 3.9min\n",
      "[CV] learning_rate=0.03, n_estimators=250, subsample=0.666, reg_lambda=0.1, seed=1024, objective=binary:logistic, max_depth=8 \n",
      "[CV]  learning_rate=0.03, n_estimators=250, subsample=0.666, reg_lambda=0.1, seed=1024, objective=binary:logistic, max_depth=8 - 4.0min\n",
      "[CV] learning_rate=0.03, n_estimators=250, subsample=0.666, reg_lambda=0.1, seed=1024, objective=binary:logistic, max_depth=8 \n",
      "[CV]  learning_rate=0.03, n_estimators=250, subsample=0.666, reg_lambda=0.1, seed=1024, objective=binary:logistic, max_depth=8 - 4.0min\n",
      "[CV] learning_rate=0.03, n_estimators=250, subsample=0.666, reg_lambda=1, seed=1024, objective=binary:logistic, max_depth=8 \n",
      "[CV]  learning_rate=0.03, n_estimators=250, subsample=0.666, reg_lambda=1, seed=1024, objective=binary:logistic, max_depth=8 - 3.9min\n",
      "[CV] learning_rate=0.03, n_estimators=250, subsample=0.666, reg_lambda=1, seed=1024, objective=binary:logistic, max_depth=8 \n",
      "[CV]  learning_rate=0.03, n_estimators=250, subsample=0.666, reg_lambda=1, seed=1024, objective=binary:logistic, max_depth=8 - 4.1min\n",
      "[CV] learning_rate=0.03, n_estimators=500, subsample=0.666, reg_lambda=0.1, seed=1024, objective=binary:logistic, max_depth=8 \n",
      "[CV]  learning_rate=0.03, n_estimators=500, subsample=0.666, reg_lambda=0.1, seed=1024, objective=binary:logistic, max_depth=8 - 8.0min\n",
      "[CV] learning_rate=0.03, n_estimators=500, subsample=0.666, reg_lambda=0.1, seed=1024, objective=binary:logistic, max_depth=8 \n",
      "[CV]  learning_rate=0.03, n_estimators=500, subsample=0.666, reg_lambda=0.1, seed=1024, objective=binary:logistic, max_depth=8 - 8.2min\n",
      "[CV] learning_rate=0.03, n_estimators=500, subsample=0.666, reg_lambda=1, seed=1024, objective=binary:logistic, max_depth=8 \n",
      "[CV]  learning_rate=0.03, n_estimators=500, subsample=0.666, reg_lambda=1, seed=1024, objective=binary:logistic, max_depth=8 - 7.9min\n",
      "[CV] learning_rate=0.03, n_estimators=500, subsample=0.666, reg_lambda=1, seed=1024, objective=binary:logistic, max_depth=8 \n",
      "[CV]  learning_rate=0.03, n_estimators=500, subsample=0.666, reg_lambda=1, seed=1024, objective=binary:logistic, max_depth=8 - 7.8min\n"
     ]
    },
    {
     "name": "stderr",
     "output_type": "stream",
     "text": [
      "[Parallel(n_jobs=1)]: Done  32 out of  32 | elapsed: 143.7min finished\n"
     ]
    },
    {
     "data": {
      "text/plain": [
       "GridSearchCV(cv=StratifiedShuffleSplit(labels=[ 0.  0. ...,  0.  0.], n_iter=2, test_size=0.1, random_state=None),\n",
       "       error_score='raise',\n",
       "       estimator=XGBClassifier(base_score=0.5, colsample_bylevel=1, colsample_bytree=1,\n",
       "       gamma=0, learning_rate=0.1, max_delta_step=0, max_depth=3,\n",
       "       min_child_weight=1, missing=None, n_estimators=100, nthread=-1,\n",
       "       objective='binary:logistic', reg_alpha=0, reg_lambda=1,\n",
       "       scale_pos_weight=1, seed=0, silent=True, subsample=1),\n",
       "       fit_params={}, iid=True, n_jobs=1,\n",
       "       param_grid={'learning_rate': [0.01, 0.03], 'n_estimators': [250, 500], 'subsample': [0.666], 'reg_lambda': [0.1, 1], 'seed': [1024], 'objective': ['binary:logistic'], 'max_depth': [4, 8]},\n",
       "       pre_dispatch='2*n_jobs', refit=True, scoring='roc_auc', verbose=2)"
      ]
     },
     "execution_count": 248,
     "metadata": {},
     "output_type": "execute_result"
    }
   ],
   "source": [
    "# EXECUTE GRIDSEARCH\n",
    "gsearch.fit(x, y)"
   ]
  },
  {
   "cell_type": "code",
   "execution_count": 327,
   "metadata": {
    "collapsed": false
   },
   "outputs": [
    {
     "name": "stdout",
     "output_type": "stream",
     "text": [
      "BEST PARAMS: {'learning_rate': 0.03, 'n_estimators': 250, 'subsample': 0.666, 'reg_lambda': 0.1, 'seed': 1024, 'objective': 'binary:logistic', 'max_depth': 4}\n"
     ]
    },
    {
     "data": {
      "text/plain": [
       "XGBClassifier(base_score=0.5, colsample_bylevel=1, colsample_bytree=1,\n",
       "       gamma=0, learning_rate=0.03, max_delta_step=0, max_depth=4,\n",
       "       min_child_weight=1, missing=None, n_estimators=250, nthread=-1,\n",
       "       objective='binary:logistic', reg_alpha=0, reg_lambda=0.1,\n",
       "       scale_pos_weight=1, seed=1024, silent=True, subsample=0.666)"
      ]
     },
     "execution_count": 327,
     "metadata": {},
     "output_type": "execute_result"
    }
   ],
   "source": [
    "# EXTRACT BEST FEATURES TO DEFINE/FIT OPTIMAL XGBLOGREG\n",
    "\n",
    "print \"BEST PARAMS:\" , gsearch.best_params_\n",
    "xgb_best = XGBClassifier()\n",
    "xgb_best.set_params(**gsearch.best_params_)\n",
    "xgb_best.fit(X_train, y_train)"
   ]
  },
  {
   "cell_type": "code",
   "execution_count": 3,
   "metadata": {
    "collapsed": true
   },
   "outputs": [],
   "source": [
    "# DE-SERIALIZE PICKLED XGB LOGISTIC CLASSIFIER\n",
    "with open('/Users/marenaisabelle/CODE/GADSI/Capstone/OptimalXGB') as fmod:\n",
    "    xgb_best = pickle.load(fmod)"
   ]
  },
  {
   "cell_type": "code",
   "execution_count": 8,
   "metadata": {
    "collapsed": false
   },
   "outputs": [
    {
     "name": "stdout",
     "output_type": "stream",
     "text": [
      "SCORE:"
     ]
    },
    {
     "ename": "NameError",
     "evalue": "name 'y_score' is not defined",
     "output_type": "error",
     "traceback": [
      "\u001b[0;31m---------------------------------------------------------------------------\u001b[0m",
      "\u001b[0;31mNameError\u001b[0m                                 Traceback (most recent call last)",
      "\u001b[0;32m<ipython-input-8-e985bca5af98>\u001b[0m in \u001b[0;36m<module>\u001b[0;34m()\u001b[0m\n\u001b[1;32m      5\u001b[0m \u001b[0mfrag_importance\u001b[0m \u001b[0;34m=\u001b[0m \u001b[0mxgb_best\u001b[0m\u001b[0;34m.\u001b[0m\u001b[0mfeature_importances_\u001b[0m\u001b[0;34m\u001b[0m\u001b[0m\n\u001b[1;32m      6\u001b[0m \u001b[0mY_score\u001b[0m \u001b[0;34m=\u001b[0m \u001b[0mxgb_best\u001b[0m\u001b[0;34m.\u001b[0m\u001b[0mscore\u001b[0m\u001b[0;34m(\u001b[0m\u001b[0mX_test\u001b[0m\u001b[0;34m,\u001b[0m \u001b[0my_test\u001b[0m\u001b[0;34m)\u001b[0m\u001b[0;34m\u001b[0m\u001b[0m\n\u001b[0;32m----> 7\u001b[0;31m \u001b[0;32mprint\u001b[0m \u001b[0;34m\"SCORE:\"\u001b[0m\u001b[0;34m,\u001b[0m \u001b[0my_score\u001b[0m\u001b[0;34m\u001b[0m\u001b[0m\n\u001b[0m\u001b[1;32m      8\u001b[0m \u001b[0;32mprint\u001b[0m \u001b[0;34m\"FEATURE IMPORTANCE:\"\u001b[0m\u001b[0;34m,\u001b[0m \u001b[0mfrag_importance\u001b[0m\u001b[0;34m\u001b[0m\u001b[0m\n\u001b[1;32m      9\u001b[0m \u001b[0;32mprint\u001b[0m \u001b[0mxgb_best\u001b[0m\u001b[0;34m.\u001b[0m\u001b[0msubsample\u001b[0m\u001b[0;34m\u001b[0m\u001b[0m\n",
      "\u001b[0;31mNameError\u001b[0m: name 'y_score' is not defined"
     ]
    }
   ],
   "source": [
    "# TRAIN/TEST EVALUATION\n",
    "X_train, X_test, y_train, y_test = train_test_split(x, y, test_size=0.333)\n",
    "pred_prob = xgb_best.predict_proba(X_test)\n",
    "y_pred = xgb_best.predict(X_test)\n",
    "frag_importance = xgb_best.feature_importances_\n",
    "Y_score = xgb_best.score(X_test, y_test)\n",
    "print \"SCORE:\", y_score\n",
    "print \"FEATURE IMPORTANCE:\", frag_importance\n",
    "print xgb_best.subsample\n",
    "print \"PREDICTED PROBABILITY:\",  pred_prob"
   ]
  },
  {
   "cell_type": "code",
   "execution_count": 2,
   "metadata": {
    "collapsed": true
   },
   "outputs": [],
   "source": [
    "# PLOT ROC\n",
    "from sklearn.metrics import roc_curve, auc, f1_score, accuracy_score, confusion_matrix, recall_score, average_precision_score\n",
    "import matplotlib.pyplot as plt"
   ]
  },
  {
   "cell_type": "code",
   "execution_count": 9,
   "metadata": {
    "collapsed": false,
    "scrolled": false
   },
   "outputs": [
    {
     "name": "stdout",
     "output_type": "stream",
     "text": [
      " TRAIN SIZE: 3486\n",
      "NUMBER OF TRUE POSITIVES IN TEST:  86\n",
      "ACCURACY: 0.981927710843\n",
      "F1: 0.432432432432\n",
      "RECALL: 0.279069767442\n",
      "PRECISION: 0.628427597433\n",
      "CONFUSION MATRIX: [[3399    1]\n",
      " [  62   24]]\n"
     ]
    },
    {
     "data": {
      "image/png": "[encoded data removed]",
      "text/plain": [
       "<matplotlib.figure.Figure at 0x1154ae4d0>"
      ]
     },
     "metadata": {},
     "output_type": "display_data"
    },
    {
     "name": "stdout",
     "output_type": "stream",
     "text": [
      "THRESHOLD: 0.90781420, , 0.770039\n",
      "FALSE POSITIVE RATES [  0.00000000e+00   0.00000000e+00   2.94117647e-04   2.94117647e-04\n",
      "   2.94117647e-04   2.94117647e-04   8.82352941e-04   8.82352941e-04\n",
      "   1.17647059e-03   1.47058824e-03   1.76470588e-03   1.76470588e-03\n",
      "   2.05882353e-03   2.05882353e-03   2.64705882e-03   2.64705882e-03\n",
      "   3.23529412e-03   3.23529412e-03   3.52941176e-03   3.52941176e-03\n",
      "   4.11764706e-03   4.11764706e-03   4.70588235e-03   4.70588235e-03\n",
      "   5.00000000e-03   5.00000000e-03   5.58823529e-03   5.58823529e-03\n",
      "   6.47058824e-03   6.47058824e-03   6.76470588e-03   6.76470588e-03\n",
      "   7.35294118e-03   7.35294118e-03   1.61764706e-02   1.61764706e-02\n",
      "   1.79411765e-02   1.79411765e-02   2.14705882e-02   2.14705882e-02\n",
      "   2.20588235e-02   2.85294118e-02   2.91176471e-02   2.97058824e-02\n",
      "   2.97058824e-02   3.02941176e-02   3.05882353e-02   3.58823529e-02\n",
      "   3.58823529e-02   4.14705882e-02   4.20588235e-02   4.88235294e-02\n",
      "   4.88235294e-02   4.97058824e-02   5.02941176e-02   5.23529412e-02\n",
      "   5.23529412e-02   6.17647059e-02   6.17647059e-02   6.50000000e-02\n",
      "   6.50000000e-02   6.55882353e-02   6.55882353e-02   7.32352941e-02\n",
      "   7.38235294e-02   8.02941176e-02   8.02941176e-02   8.08823529e-02\n",
      "   8.29411765e-02   8.35294118e-02   8.38235294e-02   8.38235294e-02\n",
      "   9.88235294e-02   9.94117647e-02   1.06176471e-01   1.06764706e-01\n",
      "   1.08529412e-01   1.09117647e-01   1.13529412e-01   1.14117647e-01\n",
      "   1.15000000e-01   1.15588235e-01   1.30294118e-01   1.30882353e-01\n",
      "   1.34117647e-01   1.35000000e-01   1.35588235e-01   1.35588235e-01\n",
      "   1.56470588e-01   1.57058824e-01   1.87941176e-01   1.88529412e-01\n",
      "   1.92058824e-01   1.92647059e-01   1.96470588e-01   1.97058824e-01\n",
      "   1.98823529e-01   1.98823529e-01   2.01176471e-01   2.01764706e-01\n",
      "   2.11764706e-01   2.12352941e-01   2.19117647e-01   2.19705882e-01\n",
      "   2.27352941e-01   2.27352941e-01   2.33529412e-01   2.34117647e-01\n",
      "   2.37647059e-01   2.38529412e-01   2.42058824e-01   2.42647059e-01\n",
      "   2.43529412e-01   2.43529412e-01   2.49411765e-01   2.50000000e-01\n",
      "   2.68823529e-01   2.69411765e-01   2.74117647e-01   2.74705882e-01\n",
      "   2.88235294e-01   2.88823529e-01   2.90882353e-01   2.90882353e-01\n",
      "   2.98823529e-01   2.98823529e-01   3.00882353e-01   3.01470588e-01\n",
      "   3.06764706e-01   3.07647059e-01   3.08235294e-01   3.09117647e-01\n",
      "   3.10000000e-01   3.18529412e-01   3.19411765e-01   3.20294118e-01\n",
      "   3.20882353e-01   3.23235294e-01   3.24117647e-01   3.35000000e-01\n",
      "   3.35588235e-01   3.41764706e-01   3.42352941e-01   3.42941176e-01\n",
      "   3.43529412e-01   3.50000000e-01   3.50882353e-01   3.55588235e-01\n",
      "   3.56176471e-01   3.56470588e-01   3.57058824e-01   4.03235294e-01\n",
      "   4.03823529e-01   4.23235294e-01   4.23823529e-01   4.25882353e-01\n",
      "   4.25882353e-01   4.26764706e-01   4.27647059e-01   4.33529412e-01\n",
      "   4.34411765e-01   4.53823529e-01   4.54411765e-01   4.55882353e-01\n",
      "   4.56470588e-01   4.59117647e-01   4.59705882e-01   4.72352941e-01\n",
      "   4.72941176e-01   4.87058824e-01   4.88235294e-01   4.90588235e-01\n",
      "   4.91176471e-01   4.99411765e-01   5.00588235e-01   5.07647059e-01\n",
      "   5.08235294e-01   5.20588235e-01   5.21176471e-01   5.44411765e-01\n",
      "   5.45000000e-01   5.48235294e-01   5.48823529e-01   5.58823529e-01\n",
      "   5.59411765e-01   5.71176471e-01   5.71764706e-01   5.76470588e-01\n",
      "   5.77058824e-01   5.86470588e-01   5.87058824e-01   5.95588235e-01\n",
      "   5.96176471e-01   6.00000000e-01   6.00588235e-01   6.00882353e-01\n",
      "   6.00882353e-01   6.07647059e-01   6.08235294e-01   6.08823529e-01\n",
      "   6.09411765e-01   6.17058824e-01   6.17647059e-01   6.38823529e-01\n",
      "   6.39705882e-01   6.42058824e-01   6.42647059e-01   6.55000000e-01\n",
      "   6.55588235e-01   6.56176471e-01   6.56764706e-01   6.60000000e-01\n",
      "   6.60588235e-01   6.66470588e-01   6.67058824e-01   6.72647059e-01\n",
      "   6.73235294e-01   6.74117647e-01   6.74705882e-01   6.79705882e-01\n",
      "   6.80294118e-01   6.84117647e-01   6.85000000e-01   6.93529412e-01\n",
      "   6.94117647e-01   6.94411765e-01   6.95000000e-01   7.01470588e-01\n",
      "   7.02352941e-01   7.05588235e-01   7.06470588e-01   7.08823529e-01\n",
      "   7.09705882e-01   7.15588235e-01   7.16176471e-01   7.18235294e-01\n",
      "   7.18823529e-01   7.21176471e-01   7.22352941e-01   7.23529412e-01\n",
      "   7.24705882e-01   7.34411765e-01   7.35000000e-01   7.35294118e-01\n",
      "   7.35882353e-01   7.36764706e-01   7.37352941e-01   7.42352941e-01\n",
      "   7.42941176e-01   7.43823529e-01   7.44705882e-01   7.52058824e-01\n",
      "   7.52647059e-01   7.58235294e-01   7.58823529e-01   7.66764706e-01\n",
      "   7.66764706e-01   7.67941176e-01   7.68823529e-01   7.69705882e-01\n",
      "   7.73823529e-01   7.77058824e-01   7.79117647e-01   7.79117647e-01\n",
      "   7.80000000e-01   7.80882353e-01   7.81470588e-01   7.82058824e-01\n",
      "   7.83529412e-01   7.84411765e-01   7.85294118e-01   7.85882353e-01\n",
      "   7.99411765e-01   8.00000000e-01   8.01176471e-01   8.02058824e-01\n",
      "   8.03529412e-01   8.04117647e-01   8.05000000e-01   8.07058824e-01\n",
      "   8.11764706e-01   8.12352941e-01   8.12647059e-01   8.14411765e-01\n",
      "   8.17941176e-01   8.18529412e-01   8.25588235e-01   8.26176471e-01\n",
      "   8.31470588e-01   8.32058824e-01   8.35588235e-01   8.36176471e-01\n",
      "   8.44705882e-01   8.45294118e-01   8.45588235e-01   8.46176471e-01\n",
      "   8.47352941e-01   8.48235294e-01   8.50294118e-01   8.50882353e-01\n",
      "   8.65294118e-01   8.65882353e-01   8.67941176e-01   8.68529412e-01\n",
      "   8.68529412e-01   8.77941176e-01   8.78823529e-01   8.80588235e-01\n",
      "   8.81764706e-01   8.82352941e-01   8.83823529e-01   8.84411765e-01\n",
      "   8.86470588e-01   8.87058824e-01   8.91764706e-01   8.92647059e-01\n",
      "   9.03235294e-01   9.03823529e-01   9.05882353e-01   9.06764706e-01\n",
      "   9.07941176e-01   9.10882353e-01   9.14411765e-01   9.15294118e-01\n",
      "   9.17941176e-01   9.18529412e-01   9.24411765e-01   9.25000000e-01\n",
      "   9.34117647e-01   9.34705882e-01   9.36764706e-01   9.37352941e-01\n",
      "   9.40000000e-01   9.40588235e-01   9.41764706e-01   9.42352941e-01\n",
      "   9.60294118e-01   9.60882353e-01   9.70882353e-01   9.71470588e-01\n",
      "   1.00000000e+00]\n"
     ]
    }
   ],
   "source": [
    "\n",
    "X_train, X_test, y_train, y_test = train_test_split(x, y, test_size=0.333)\n",
    "\n",
    "FPR = dict()\n",
    "TPR = dict()\n",
    "ROC_AUC = dict()\n",
    "\n",
    "ypred = xgb_best.predict(X_test).tolist()\n",
    "predprob = xgb_best.predict_proba(X_test)\n",
    "accuracy = accuracy_score(y_test, ypred)\n",
    "f1 = f1_score(y_test, ypred)\n",
    "cmat = confusion_matrix(y_test, ypred)\n",
    "rec = recall_score(y_test, ypred)\n",
    "prec = average_precision_score(y_test, ypred)\n",
    "# Find the area under the curve for \"Active Class\"\n",
    "FPR[1], TPR[1], thresholds = roc_curve(y_test, xgb_best.predict_proba(X_test)[:,1])\n",
    "ROC_AUC[1] = auc(FPR[1], TPR[1])\n",
    "\n",
    "# Print major stats\n",
    "print \"TRAIN SIZE:\" , len(y_test)\n",
    "print \"NUMBER OF TRUE POSITIVES IN TEST: \" , len([x for x in y_test if x != 0])\n",
    "print \"ACCURACY:\", accuracy\n",
    "print \"F1:\" , f1\n",
    "print \"RECALL:\", rec\n",
    "print \"PRECISION:\" , prec\n",
    "print \"CONFUSION MATRIX:\" , cmat\n",
    "\n",
    "# Plot of a ROC curve for \"Active Class\"\n",
    "plt.figure(figsize=[11,9])\n",
    "plt.plot(FPR[1], TPR[1], label='ROC curve (area = %0.2f)' % ROC_AUC[1], linewidth=4)\n",
    "plt.plot([0, 1], [0, 1], 'k--', linewidth=4)\n",
    "plt.xlim([0.0, 1.0])\n",
    "plt.ylim([0.0, 1.05])\n",
    "plt.xlabel('False Positive Rate', fontsize=18)\n",
    "plt.ylabel('True Positive Rate', fontsize=18)\n",
    "plt.title('ROC for Antibiotic Discovery', fontsize=18)\n",
    "plt.legend(loc=\"lower right\")\n",
    "plt.show()\n",
    "\n",
    "print \"THRESHOLD: %.8f, , %f\" % (thresholds[0], thresholds[1])\n",
    "print \"FALSE POSITIVE RATES\" , FPR[1]"
   ]
  },
  {
   "cell_type": "code",
   "execution_count": null,
   "metadata": {
    "collapsed": true
   },
   "outputs": [],
   "source": [
    "# PICKLE OPTIMIZED XGBLOGREG\n",
    "xgb_opt = xgb_best.fit(X_train, y_train)\n",
    "with open('OptimalXGB', 'wb') as f:\n",
    "    pickle.dump(xgb_opt, f)"
   ]
  },
  {
   "cell_type": "code",
   "execution_count": 4,
   "metadata": {
    "collapsed": false
   },
   "outputs": [
    {
     "ename": "NameError",
     "evalue": "name 'FPR' is not defined",
     "output_type": "error",
     "traceback": [
      "\u001b[0;31m---------------------------------------------------------------------------\u001b[0m",
      "\u001b[0;31mNameError\u001b[0m                                 Traceback (most recent call last)",
      "\u001b[0;32m<ipython-input-4-cc95f750b133>\u001b[0m in \u001b[0;36m<module>\u001b[0;34m()\u001b[0m\n\u001b[0;32m----> 1\u001b[0;31m \u001b[0mFPR\u001b[0m\u001b[0;34m[\u001b[0m\u001b[0;36m1\u001b[0m\u001b[0;34m]\u001b[0m\u001b[0;34m\u001b[0m\u001b[0m\n\u001b[0m",
      "\u001b[0;31mNameError\u001b[0m: name 'FPR' is not defined"
     ]
    }
   ],
   "source": [
    "FPR[1]"
   ]
  },
  {
   "cell_type": "code",
   "execution_count": null,
   "metadata": {
    "collapsed": true
   },
   "outputs": [],
   "source": []
  }
 ],
 "metadata": {
  "anaconda-cloud": {},
  "kernelspec": {
   "display_name": "Python [conda env:dsi]",
   "language": "python",
   "name": "conda-env-dsi-py"
  },
  "language_info": {
   "codemirror_mode": {
    "name": "ipython",
    "version": 2
   },
   "file_extension": ".py",
   "mimetype": "text/x-python",
   "name": "python",
   "nbconvert_exporter": "python",
   "pygments_lexer": "ipython2",
   "version": "2.7.12"
  }
 },
 "nbformat": 4,
 "nbformat_minor": 1
}
