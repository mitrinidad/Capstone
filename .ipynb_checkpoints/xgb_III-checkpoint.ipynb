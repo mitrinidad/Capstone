{
 "cells": [
  {
   "cell_type": "code",
   "execution_count": 1,
   "metadata": {
    "collapsed": false
   },
   "outputs": [
    {
     "name": "stderr",
     "output_type": "stream",
     "text": [
      "/Users/marenaisabelle/anaconda/envs/dsi/lib/python2.7/site-packages/matplotlib/font_manager.py:273: UserWarning: Matplotlib is building the font cache using fc-list. This may take a moment.\n",
      "  warnings.warn('Matplotlib is building the font cache using fc-list. This may take a moment.')\n"
     ]
    }
   ],
   "source": [
    "import numpy as np\n",
    "import pandas as pd\n",
    "import joblib\n",
    "import xgboost as xgb \n",
    "import pickle\n",
    "from sklearn.grid_search import GridSearchCV\n",
    "from sklearn.cross_validation import StratifiedShuffleSplit, train_test_split\n",
    "%matplotlib inline"
   ]
  },
  {
   "cell_type": "code",
   "execution_count": 2,
   "metadata": {
    "collapsed": false
   },
   "outputs": [],
   "source": [
    "# LOAD DATA\n",
    "chem_lib = pd.read_csv('/Users/marenaisabelle/CODE/GADSI/fulldf')\n",
    "with open('/Users/marenaisabelle/CODE/GADSI/Capstone/pickle_prints','rb') as f: # Load pickled fingerprints by de-serialize\n",
    "    fps = pickle.load(f)"
   ]
  },
  {
   "cell_type": "code",
   "execution_count": 3,
   "metadata": {
    "collapsed": false
   },
   "outputs": [],
   "source": [
    "# DEFINE PREDICTORS(X= Fingerprints) AND TARGET(Y= Activity)\n",
    "x = np.asmatrix(fps)\n",
    "y = chem_lib.Activity.values"
   ]
  },
  {
   "cell_type": "code",
   "execution_count": 244,
   "metadata": {
    "collapsed": false
   },
   "outputs": [],
   "source": [
    "# DEFINE CV SCHEME\n",
    "sss = StratifiedShuffleSplit(y, n_iter=2) # Stratified-Shuffle-Splitto ensure train data preserves class imbalance in cv"
   ]
  },
  {
   "cell_type": "code",
   "execution_count": 245,
   "metadata": {
    "collapsed": false
   },
   "outputs": [],
   "source": [
    "# DEFINE PARAMS FOR GRIDSEARCH\n",
    "params = {\n",
    "    'objective' : ['binary:logistic'],\n",
    "    'max_depth' : [4, 8],\n",
    "    'n_estimators': [250, 500],\n",
    "    'learning_rate': [0.01, 0.03],\n",
    "    'subsample': [0.666], # Vary train/test to observe bias/variance tradeoff and class imbalance effects\n",
    "    'reg_lambda': [0.1, 1], # L2/Ridge Regularization for increased stringency\n",
    "    'seed' : [1024]\n",
    "    \n",
    "}"
   ]
  },
  {
   "cell_type": "code",
   "execution_count": 246,
   "metadata": {
    "collapsed": false
   },
   "outputs": [],
   "source": [
    "# DEFINE GRIDSEARCH\n",
    "gsearch = GridSearchCV(xgb_c, param_grid=params, verbose=2, cv=sss, scoring='roc_auc')\n",
    "# DEFINE YOUR ESTIMATOR\n",
    "xgb_c = xgb.XGBClassifier()"
   ]
  },
  {
   "cell_type": "code",
   "execution_count": 248,
   "metadata": {
    "collapsed": false,
    "scrolled": true
   },
   "outputs": [
    {
     "name": "stdout",
     "output_type": "stream",
     "text": [
      "Fitting 2 folds for each of 16 candidates, totalling 32 fits\n",
      "[CV] learning_rate=0.01, n_estimators=250, subsample=0.666, reg_lambda=0.1, seed=1024, objective=binary:logistic, max_depth=4 \n",
      "[CV]  learning_rate=0.01, n_estimators=250, subsample=0.666, reg_lambda=0.1, seed=1024, objective=binary:logistic, max_depth=4 - 2.0min\n",
      "[CV] learning_rate=0.01, n_estimators=250, subsample=0.666, reg_lambda=0.1, seed=1024, objective=binary:logistic, max_depth=4 \n",
      "[CV]  learning_rate=0.01, n_estimators=250, subsample=0.666, reg_lambda=0.1, seed=1024, objective=binary:logistic, max_depth=4 - 2.0min\n",
      "[CV] learning_rate=0.01, n_estimators=250, subsample=0.666, reg_lambda=1, seed=1024, objective=binary:logistic, max_depth=4 \n",
      "[CV]  learning_rate=0.01, n_estimators=250, subsample=0.666, reg_lambda=1, seed=1024, objective=binary:logistic, max_depth=4 - 2.0min\n",
      "[CV] learning_rate=0.01, n_estimators=250, subsample=0.666, reg_lambda=1, seed=1024, objective=binary:logistic, max_depth=4 \n",
      "[CV]  learning_rate=0.01, n_estimators=250, subsample=0.666, reg_lambda=1, seed=1024, objective=binary:logistic, max_depth=4 - 2.1min\n",
      "[CV] learning_rate=0.01, n_estimators=500, subsample=0.666, reg_lambda=0.1, seed=1024, objective=binary:logistic, max_depth=4 \n",
      "[CV]  learning_rate=0.01, n_estimators=500, subsample=0.666, reg_lambda=0.1, seed=1024, objective=binary:logistic, max_depth=4 - 4.0min\n",
      "[CV] learning_rate=0.01, n_estimators=500, subsample=0.666, reg_lambda=0.1, seed=1024, objective=binary:logistic, max_depth=4 \n",
      "[CV]  learning_rate=0.01, n_estimators=500, subsample=0.666, reg_lambda=0.1, seed=1024, objective=binary:logistic, max_depth=4 - 4.0min\n",
      "[CV] learning_rate=0.01, n_estimators=500, subsample=0.666, reg_lambda=1, seed=1024, objective=binary:logistic, max_depth=4 \n",
      "[CV]  learning_rate=0.01, n_estimators=500, subsample=0.666, reg_lambda=1, seed=1024, objective=binary:logistic, max_depth=4 - 4.0min\n",
      "[CV] learning_rate=0.01, n_estimators=500, subsample=0.666, reg_lambda=1, seed=1024, objective=binary:logistic, max_depth=4 \n",
      "[CV]  learning_rate=0.01, n_estimators=500, subsample=0.666, reg_lambda=1, seed=1024, objective=binary:logistic, max_depth=4 - 4.0min\n",
      "[CV] learning_rate=0.01, n_estimators=250, subsample=0.666, reg_lambda=0.1, seed=1024, objective=binary:logistic, max_depth=8 \n",
      "[CV]  learning_rate=0.01, n_estimators=250, subsample=0.666, reg_lambda=0.1, seed=1024, objective=binary:logistic, max_depth=8 - 4.0min\n",
      "[CV] learning_rate=0.01, n_estimators=250, subsample=0.666, reg_lambda=0.1, seed=1024, objective=binary:logistic, max_depth=8 \n",
      "[CV]  learning_rate=0.01, n_estimators=250, subsample=0.666, reg_lambda=0.1, seed=1024, objective=binary:logistic, max_depth=8 - 4.0min\n",
      "[CV] learning_rate=0.01, n_estimators=250, subsample=0.666, reg_lambda=1, seed=1024, objective=binary:logistic, max_depth=8 \n",
      "[CV]  learning_rate=0.01, n_estimators=250, subsample=0.666, reg_lambda=1, seed=1024, objective=binary:logistic, max_depth=8 - 4.0min\n",
      "[CV] learning_rate=0.01, n_estimators=250, subsample=0.666, reg_lambda=1, seed=1024, objective=binary:logistic, max_depth=8 \n",
      "[CV]  learning_rate=0.01, n_estimators=250, subsample=0.666, reg_lambda=1, seed=1024, objective=binary:logistic, max_depth=8 - 4.0min\n",
      "[CV] learning_rate=0.01, n_estimators=500, subsample=0.666, reg_lambda=0.1, seed=1024, objective=binary:logistic, max_depth=8 \n",
      "[CV]  learning_rate=0.01, n_estimators=500, subsample=0.666, reg_lambda=0.1, seed=1024, objective=binary:logistic, max_depth=8 - 7.9min\n",
      "[CV] learning_rate=0.01, n_estimators=500, subsample=0.666, reg_lambda=0.1, seed=1024, objective=binary:logistic, max_depth=8 \n",
      "[CV]  learning_rate=0.01, n_estimators=500, subsample=0.666, reg_lambda=0.1, seed=1024, objective=binary:logistic, max_depth=8 - 7.9min\n",
      "[CV] learning_rate=0.01, n_estimators=500, subsample=0.666, reg_lambda=1, seed=1024, objective=binary:logistic, max_depth=8 \n",
      "[CV]  learning_rate=0.01, n_estimators=500, subsample=0.666, reg_lambda=1, seed=1024, objective=binary:logistic, max_depth=8 - 7.9min\n",
      "[CV] learning_rate=0.01, n_estimators=500, subsample=0.666, reg_lambda=1, seed=1024, objective=binary:logistic, max_depth=8 \n",
      "[CV]  learning_rate=0.01, n_estimators=500, subsample=0.666, reg_lambda=1, seed=1024, objective=binary:logistic, max_depth=8 - 7.9min\n",
      "[CV] learning_rate=0.03, n_estimators=250, subsample=0.666, reg_lambda=0.1, seed=1024, objective=binary:logistic, max_depth=4 \n",
      "[CV]  learning_rate=0.03, n_estimators=250, subsample=0.666, reg_lambda=0.1, seed=1024, objective=binary:logistic, max_depth=4 - 2.0min\n",
      "[CV] learning_rate=0.03, n_estimators=250, subsample=0.666, reg_lambda=0.1, seed=1024, objective=binary:logistic, max_depth=4 \n",
      "[CV]  learning_rate=0.03, n_estimators=250, subsample=0.666, reg_lambda=0.1, seed=1024, objective=binary:logistic, max_depth=4 - 2.1min\n",
      "[CV] learning_rate=0.03, n_estimators=250, subsample=0.666, reg_lambda=1, seed=1024, objective=binary:logistic, max_depth=4 \n",
      "[CV]  learning_rate=0.03, n_estimators=250, subsample=0.666, reg_lambda=1, seed=1024, objective=binary:logistic, max_depth=4 - 2.0min\n",
      "[CV] learning_rate=0.03, n_estimators=250, subsample=0.666, reg_lambda=1, seed=1024, objective=binary:logistic, max_depth=4 \n",
      "[CV]  learning_rate=0.03, n_estimators=250, subsample=0.666, reg_lambda=1, seed=1024, objective=binary:logistic, max_depth=4 - 2.1min\n",
      "[CV] learning_rate=0.03, n_estimators=500, subsample=0.666, reg_lambda=0.1, seed=1024, objective=binary:logistic, max_depth=4 \n",
      "[CV]  learning_rate=0.03, n_estimators=500, subsample=0.666, reg_lambda=0.1, seed=1024, objective=binary:logistic, max_depth=4 - 4.0min\n",
      "[CV] learning_rate=0.03, n_estimators=500, subsample=0.666, reg_lambda=0.1, seed=1024, objective=binary:logistic, max_depth=4 \n",
      "[CV]  learning_rate=0.03, n_estimators=500, subsample=0.666, reg_lambda=0.1, seed=1024, objective=binary:logistic, max_depth=4 - 4.0min\n",
      "[CV] learning_rate=0.03, n_estimators=500, subsample=0.666, reg_lambda=1, seed=1024, objective=binary:logistic, max_depth=4 \n",
      "[CV]  learning_rate=0.03, n_estimators=500, subsample=0.666, reg_lambda=1, seed=1024, objective=binary:logistic, max_depth=4 - 3.9min\n",
      "[CV] learning_rate=0.03, n_estimators=500, subsample=0.666, reg_lambda=1, seed=1024, objective=binary:logistic, max_depth=4 \n",
      "[CV]  learning_rate=0.03, n_estimators=500, subsample=0.666, reg_lambda=1, seed=1024, objective=binary:logistic, max_depth=4 - 3.9min\n",
      "[CV] learning_rate=0.03, n_estimators=250, subsample=0.666, reg_lambda=0.1, seed=1024, objective=binary:logistic, max_depth=8 \n",
      "[CV]  learning_rate=0.03, n_estimators=250, subsample=0.666, reg_lambda=0.1, seed=1024, objective=binary:logistic, max_depth=8 - 4.0min\n",
      "[CV] learning_rate=0.03, n_estimators=250, subsample=0.666, reg_lambda=0.1, seed=1024, objective=binary:logistic, max_depth=8 \n",
      "[CV]  learning_rate=0.03, n_estimators=250, subsample=0.666, reg_lambda=0.1, seed=1024, objective=binary:logistic, max_depth=8 - 4.0min\n",
      "[CV] learning_rate=0.03, n_estimators=250, subsample=0.666, reg_lambda=1, seed=1024, objective=binary:logistic, max_depth=8 \n",
      "[CV]  learning_rate=0.03, n_estimators=250, subsample=0.666, reg_lambda=1, seed=1024, objective=binary:logistic, max_depth=8 - 3.9min\n",
      "[CV] learning_rate=0.03, n_estimators=250, subsample=0.666, reg_lambda=1, seed=1024, objective=binary:logistic, max_depth=8 \n",
      "[CV]  learning_rate=0.03, n_estimators=250, subsample=0.666, reg_lambda=1, seed=1024, objective=binary:logistic, max_depth=8 - 4.1min\n",
      "[CV] learning_rate=0.03, n_estimators=500, subsample=0.666, reg_lambda=0.1, seed=1024, objective=binary:logistic, max_depth=8 \n",
      "[CV]  learning_rate=0.03, n_estimators=500, subsample=0.666, reg_lambda=0.1, seed=1024, objective=binary:logistic, max_depth=8 - 8.0min\n",
      "[CV] learning_rate=0.03, n_estimators=500, subsample=0.666, reg_lambda=0.1, seed=1024, objective=binary:logistic, max_depth=8 \n",
      "[CV]  learning_rate=0.03, n_estimators=500, subsample=0.666, reg_lambda=0.1, seed=1024, objective=binary:logistic, max_depth=8 - 8.2min\n",
      "[CV] learning_rate=0.03, n_estimators=500, subsample=0.666, reg_lambda=1, seed=1024, objective=binary:logistic, max_depth=8 \n",
      "[CV]  learning_rate=0.03, n_estimators=500, subsample=0.666, reg_lambda=1, seed=1024, objective=binary:logistic, max_depth=8 - 7.9min\n",
      "[CV] learning_rate=0.03, n_estimators=500, subsample=0.666, reg_lambda=1, seed=1024, objective=binary:logistic, max_depth=8 \n",
      "[CV]  learning_rate=0.03, n_estimators=500, subsample=0.666, reg_lambda=1, seed=1024, objective=binary:logistic, max_depth=8 - 7.8min\n"
     ]
    },
    {
     "name": "stderr",
     "output_type": "stream",
     "text": [
      "[Parallel(n_jobs=1)]: Done  32 out of  32 | elapsed: 143.7min finished\n"
     ]
    },
    {
     "data": {
      "text/plain": [
       "GridSearchCV(cv=StratifiedShuffleSplit(labels=[ 0.  0. ...,  0.  0.], n_iter=2, test_size=0.1, random_state=None),\n",
       "       error_score='raise',\n",
       "       estimator=XGBClassifier(base_score=0.5, colsample_bylevel=1, colsample_bytree=1,\n",
       "       gamma=0, learning_rate=0.1, max_delta_step=0, max_depth=3,\n",
       "       min_child_weight=1, missing=None, n_estimators=100, nthread=-1,\n",
       "       objective='binary:logistic', reg_alpha=0, reg_lambda=1,\n",
       "       scale_pos_weight=1, seed=0, silent=True, subsample=1),\n",
       "       fit_params={}, iid=True, n_jobs=1,\n",
       "       param_grid={'learning_rate': [0.01, 0.03], 'n_estimators': [250, 500], 'subsample': [0.666], 'reg_lambda': [0.1, 1], 'seed': [1024], 'objective': ['binary:logistic'], 'max_depth': [4, 8]},\n",
       "       pre_dispatch='2*n_jobs', refit=True, scoring='roc_auc', verbose=2)"
      ]
     },
     "execution_count": 248,
     "metadata": {},
     "output_type": "execute_result"
    }
   ],
   "source": [
    "# EXECUTE GRIDSEARCH\n",
    "gsearch.fit(x, y)"
   ]
  },
  {
   "cell_type": "code",
   "execution_count": 327,
   "metadata": {
    "collapsed": false
   },
   "outputs": [
    {
     "name": "stdout",
     "output_type": "stream",
     "text": [
      "BEST PARAMS: {'learning_rate': 0.03, 'n_estimators': 250, 'subsample': 0.666, 'reg_lambda': 0.1, 'seed': 1024, 'objective': 'binary:logistic', 'max_depth': 4}\n"
     ]
    },
    {
     "data": {
      "text/plain": [
       "XGBClassifier(base_score=0.5, colsample_bylevel=1, colsample_bytree=1,\n",
       "       gamma=0, learning_rate=0.03, max_delta_step=0, max_depth=4,\n",
       "       min_child_weight=1, missing=None, n_estimators=250, nthread=-1,\n",
       "       objective='binary:logistic', reg_alpha=0, reg_lambda=0.1,\n",
       "       scale_pos_weight=1, seed=1024, silent=True, subsample=0.666)"
      ]
     },
     "execution_count": 327,
     "metadata": {},
     "output_type": "execute_result"
    }
   ],
   "source": [
    "# EXTRACT BEST FEATURES TO DEFINE/FIT OPTIMAL XGBLOGREG\n",
    "\n",
    "print \"BEST PARAMS:\" , gsearch.best_params_\n",
    "xgb_best = XGBClassifier()\n",
    "xgb_best.set_params(**gsearch.best_params_)\n",
    "xgb_best.fit(X_train, y_train)"
   ]
  },
  {
   "cell_type": "code",
   "execution_count": 264,
   "metadata": {
    "collapsed": true
   },
   "outputs": [],
   "source": [
    "# DE-SERIALIZE PICKLED XGB LOGISTIC CLASSIFIER\n",
    "with open('/Users/marenaisabelle/CODE/GADSI/Capstone/OptimalXGB') as fmod:\n",
    "    xgb_best = pickle.load(fmod)"
   ]
  },
  {
   "cell_type": "code",
   "execution_count": 328,
   "metadata": {
    "collapsed": false
   },
   "outputs": [
    {
     "name": "stdout",
     "output_type": "stream",
     "text": [
      "SCORE: 0.982214572576\n",
      "FEATURE IMPORTANCE: [ 0.          0.01645065  0.         ...,  0.          0.0004985   0.        ]\n",
      "0.666\n",
      "PREDICTED PROBABILITY: [[ 0.98745978  0.01254021]\n",
      " [ 0.98621589  0.01378411]\n",
      " [ 0.99111819  0.00888182]\n",
      " ..., \n",
      " [ 0.97380751  0.02619248]\n",
      " [ 0.99295372  0.00704629]\n",
      " [ 0.9893322   0.01066778]]\n"
     ]
    }
   ],
   "source": [
    "# TRAIN/TEST EVALUATION\n",
    "X_train, X_test, y_train, y_test = train_test_split(x, y, test_size=0.333)\n",
    "pred_prob = xgb_best.predict_proba(X_test)\n",
    "y_pred = xgb_best.predict(X_test)\n",
    "frag_importance = xgb_best.feature_importances_\n",
    "Y_score = xgb_best.score(X_test, y_test)\n",
    "print \"SCORE:\", y_score\n",
    "print \"FEATURE IMPORTANCE:\", frag_importance\n",
    "print xgb_best.subsample\n",
    "print \"PREDICTED PROBABILITY:\",  pred_prob"
   ]
  },
  {
   "cell_type": "code",
   "execution_count": 343,
   "metadata": {
    "collapsed": false
   },
   "outputs": [
    {
     "name": "stdout",
     "output_type": "stream",
     "text": [
      "TRAIN SIZE: 3486\n",
      "NUMBER OF TRUE POSITIVES IN TEST:  88\n",
      "ACCURACY: 0.979919678715\n",
      "F1: 0.339622641509\n",
      "RECALL: 0.204545454545\n",
      "PRECISION: 0.612312887915\n",
      "CONFUSION MATRIX: [[3398    0]\n",
      " [  70   18]]\n"
     ]
    },
    {
     "data": {
      "image/png": "[encoded data removed]",
      "text/plain": [
       "<matplotlib.figure.Figure at 0x115239d50>"
      ]
     },
     "metadata": {},
     "output_type": "display_data"
    },
    {
     "name": "stdout",
     "output_type": "stream",
     "text": [
      "THRESHOLD: 1.00000000, , 0.000000\n",
      "FALSE POSITIVE RATES [ 0.  1.]\n"
     ]
    }
   ],
   "source": [
    "# PLOT ROC\n",
    "from sklearn.metrics import roc_curve, auc, f1_score, accuracy_score, confusion_matrix, recall_score, average_precision_score\n",
    "import matplotlib.pyplot as plt\n",
    "\n",
    "X_train, X_test, y_train, y_test = train_test_split(x, y, test_size=0.333)\n",
    "\n",
    "FPR = dict()\n",
    "TPR = dict()\n",
    "ROC_AUC = dict()\n",
    "\n",
    "ypred = xgb_best.predict(X_test).tolist()\n",
    "predprob = xgb_best.predict_proba(X_test)\n",
    "accuracy = accuracy_score(y_test, ypred)\n",
    "f1 = f1_score(y_test, ypred)\n",
    "cmat = confusion_matrix(y_test, ypred)\n",
    "rec = recall_score(y_test, ypred)\n",
    "prec = average_precision_score(y_test, ypred)\n",
    "# Find the area under the curve for \"Active Class\"\n",
    "FPR[1], TPR[1], thresholds = roc_curve(y_test, ypred)\n",
    "ROC_AUC[1] = auc(FPR[1], TPR[1])\n",
    "\n",
    "# Print major stats\n",
    "print \"TRAIN SIZE:\" , len(y_test)\n",
    "print \"NUMBER OF TRUE POSITIVES IN TEST: \" , len([x for x in y_test if x != 0])\n",
    "print \"ACCURACY:\", accuracy\n",
    "print \"F1:\" , f1\n",
    "print \"RECALL:\", rec\n",
    "print \"PRECISION:\" , prec\n",
    "print \"CONFUSION MATRIX:\" , cmat\n",
    "\n",
    "# Plot of a ROC curve for \"Active Class\"\n",
    "plt.figure(figsize=[11,9])\n",
    "plt.plot(FPR[1], TPR[1], label='ROC curve (area = %0.2f)' % ROC_AUC[1], linewidth=4)\n",
    "plt.plot([0, 1], [0, 1], 'k--', linewidth=4)\n",
    "plt.xlim([0.0, 1.0])\n",
    "plt.ylim([0.0, 1.05])\n",
    "plt.xlabel('False Positive Rate', fontsize=18)\n",
    "plt.ylabel('True Positive Rate', fontsize=18)\n",
    "plt.title('ROC for Antibiotic Discovery', fontsize=18)\n",
    "plt.legend(loc=\"lower right\")\n",
    "plt.show()\n",
    "\n",
    "print \"THRESHOLD: %.8f, , %f\" % (thresholds[0], thresholds[1])\n",
    "print \"FALSE POSITIVE RATES\" , FPR[1]"
   ]
  },
  {
   "cell_type": "code",
   "execution_count": null,
   "metadata": {
    "collapsed": true
   },
   "outputs": [],
   "source": [
    "# PICKLE OPTIMIZED XGBLOGREG\n",
    "xgb_opt = xgb_best.fit(X_train, y_train)\n",
    "with open('OptimalXGB', 'wb') as f:\n",
    "    pickle.dump(xgb_opt, f)"
   ]
  },
  {
   "cell_type": "code",
   "execution_count": 4,
   "metadata": {
    "collapsed": false
   },
   "outputs": [
    {
     "ename": "NameError",
     "evalue": "name 'FPR' is not defined",
     "output_type": "error",
     "traceback": [
      "\u001b[0;31m---------------------------------------------------------------------------\u001b[0m",
      "\u001b[0;31mNameError\u001b[0m                                 Traceback (most recent call last)",
      "\u001b[0;32m<ipython-input-4-cc95f750b133>\u001b[0m in \u001b[0;36m<module>\u001b[0;34m()\u001b[0m\n\u001b[0;32m----> 1\u001b[0;31m \u001b[0mFPR\u001b[0m\u001b[0;34m[\u001b[0m\u001b[0;36m1\u001b[0m\u001b[0;34m]\u001b[0m\u001b[0;34m\u001b[0m\u001b[0m\n\u001b[0m",
      "\u001b[0;31mNameError\u001b[0m: name 'FPR' is not defined"
     ]
    }
   ],
   "source": [
    "FPR[1]"
   ]
  },
  {
   "cell_type": "code",
   "execution_count": null,
   "metadata": {
    "collapsed": true
   },
   "outputs": [],
   "source": []
  }
 ],
 "metadata": {
  "anaconda-cloud": {},
  "kernelspec": {
   "display_name": "Python [conda env:dsi]",
   "language": "python",
   "name": "conda-env-dsi-py"
  },
  "language_info": {
   "codemirror_mode": {
    "name": "ipython",
    "version": 2
   },
   "file_extension": ".py",
   "mimetype": "text/x-python",
   "name": "python",
   "nbconvert_exporter": "python",
   "pygments_lexer": "ipython2",
   "version": "2.7.12"
  }
 },
 "nbformat": 4,
 "nbformat_minor": 1
}
